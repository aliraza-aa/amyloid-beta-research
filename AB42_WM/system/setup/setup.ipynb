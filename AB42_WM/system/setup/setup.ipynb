{
 "cells": [
  {
   "cell_type": "code",
   "execution_count": null,
   "metadata": {},
   "outputs": [],
   "source": [
    "\n",
    "gmx_mpi pdb2gmx -f ../template.pdb -o template.gro -water tip3p\n",
    "\n",
    "# -------------------------------------------------------\n",
    "# Program:     gmx pdb2gmx, version 2022.5-plumed_2.9.0\n",
    "# Source file: src/gromacs/gmxpreprocess/ter_db.cpp (line 138)\n",
    "# Function:    void read_atom(char*, bool, std::string*, t_atom*, PreprocessingAtomTypes*, int*)\n",
    "\n",
    "# Inconsistency in user input:\n",
    "# Atom type OH specified in terminal database has not been defined in the force\n",
    "# field\n",
    "\n",
    "# For more information and tips for troubleshooting, please check the GROMACS\n",
    "# website at http://www.gromacs.org/Documentation/Errors\n",
    "# -------------------------------------------------------\n",
    "\n",
    "# Changed aminoacids.c.tdb OH to OH1.This worked! Potential typo in force field files?\n",
    "\n",
    "gmx_mpi editconf -f template.gro -o template_newbox.gro -c -d 1.0 -bt dodecahedron\n",
    "# output of the above command Volume: 362.038 nm^3\n",
    "\n",
    "gmx_mpi solvate -cp template_newbox.gro -cs spc216.gro -o template_solv.gro -p ../topol.top\n",
    "# only 5922 solvent molecules added compared to 11000 in the paper\n",
    "\n",
    "# WARNING: Masses and atomic (Van der Waals) radii will be guessed\n",
    "#          based on residue and atom names, since they could not be\n",
    "#          definitively assigned from the information in your input\n",
    "#          files. These guessed numbers might deviate from the mass\n",
    "#          and radius of the atom type. Please check the output\n",
    "#          files if necessary. Note, that this functionality may\n",
    "#          be removed in a future GROMACS version. Please, consider\n",
    "#          using another file format for your input.\n",
    "\n",
    "# NOTE: From version 5.0 gmx solvate uses the Van der Waals radii\n",
    "# from the source below. This means the results may be different\n",
    "# compared to previous GROMACS versions.\n",
    "\n",
    "# ++++ PLEASE READ AND CITE THE FOLLOWING REFERENCE ++++\n",
    "# A. Bondi\n",
    "# van der Waals Volumes and Radii\n",
    "# J. Phys. Chem. 68 (1964) pp. 441-451"
   ]
  },
  {
   "cell_type": "code",
   "execution_count": 2,
   "metadata": {},
   "outputs": [],
   "source": [
    "# adding NaCl and KCl to the box\n",
    "\n",
    "# am confused about the mdp file used. the file uses 1nm as the cutoff distances for WDW/coulomb interactions\n",
    "# while the cutoff used in actual simulation is 1.2\n",
    "gmx_mpi grompp -f ../mdp_files/ions.mdp -c template_solv.gro -p ../topol.top -o genion_NaCl_input.tpr\n",
    "gmx_mpi genion -s genion_NaCl_input.tpr -o genion_NaCl_output.gro -conc 0.137 -pname NA -nname CL -p ../topol.top\n",
    "\n",
    "gmx_mpi grompp -f ../mdp_files/ions.mdp -c genion_NaCl_output.gro -p ../topol.top -o genion_KCl_input.tpr\n",
    "gmx_mpi genion -s genion_KCl_input.tpr -o genion_KCl_output.gro -conc 0.00268 -pname K -nname CL -p ../topol.top"
   ]
  },
  {
   "cell_type": "code",
   "execution_count": 4,
   "metadata": {},
   "outputs": [],
   "source": [
    "# energy minimization\n",
    "# same confusion as previous cell regarding mdp file, cutoff distances and other parameters different\n",
    "gmx_mpi grompp -f ../mdp_files/em.mdp -c genion_KCl_output.gro -p ../topol.top -o em_input.tpr -maxwarn 1\n",
    "gerun gmx_mpi mdrun -s em_input.tpr -o em.trr -x em.xtc -c em_output.gro -g em.log -e em.edr -v -maxh 10\n",
    "\n",
    "# Steepest Descents converged to Fmax < 1000 in 101 steps\n",
    "# Potential Energy  = -2.6635816e+05\n",
    "# Maximum force     =  9.3316010e+02 on atom 409\n",
    "# Norm of force     =  7.3510789e+01"
   ]
  },
  {
   "cell_type": "code",
   "execution_count": null,
   "metadata": {},
   "outputs": [],
   "source": [
    "# preliminary 2-ns simulation at 600 K in the NVT ensemble\n",
    "# the paper doesn't mention position restraints. so no position restraints? obv no posres cuz want to find max rms replicas\n",
    "# also which thermostat to use?\n",
    "gmx_mpi grompp -f ../mdp_files/nvt-run-600.mdp -c em_output.gro -p ../topol.top -o nvt_600_input.tpr -maxwarn 1\n",
    "gerun gmx_mpi mdrun -s nvt_600_input.tpr -o nvt_600.trr -x nvt_600.xtc -c nvt_600_output.gro -g nvt_600.log -e nvt.edr -v &> nvt_600.log"
   ]
  },
  {
   "cell_type": "code",
   "execution_count": null,
   "metadata": {},
   "outputs": [],
   "source": [
    "# algorithm to extract 48 confirmations"
   ]
  },
  {
   "cell_type": "code",
   "execution_count": null,
   "metadata": {},
   "outputs": [],
   "source": [
    "# NVT and NPT equilibration with position restraints on heavy atoms\n"
   ]
  }
 ],
 "metadata": {
  "kernelspec": {
   "display_name": "Python 3 (ipykernel)",
   "language": "python",
   "name": "python3"
  },
  "language_info": {
   "codemirror_mode": {
    "name": "ipython",
    "version": 3
   },
   "file_extension": ".py",
   "mimetype": "text/x-python",
   "name": "python",
   "nbconvert_exporter": "python",
   "pygments_lexer": "ipython3",
   "version": "3.7.12"
  }
 },
 "nbformat": 4,
 "nbformat_minor": 2
}
