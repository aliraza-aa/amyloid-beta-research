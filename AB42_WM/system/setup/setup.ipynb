{
 "cells": [
  {
   "cell_type": "code",
   "execution_count": null,
   "metadata": {},
   "outputs": [],
   "source": [
    "gmx_mpi pdb2gmx -f template.pdb -o template.gro -water tip3p\n",
    "gmx editconf -f template.gro -o template_newbox.gro -c -d 1.0 -bt dodecahedron\n",
    "# figure out what to do about -cs flag\n",
    "# -cs spc216.gro\n",
    "gmx solvate -cp template_newbox.gro -o template_solv.gro -p topol.top"
   ]
  },
  {
   "cell_type": "code",
   "execution_count": 2,
   "metadata": {},
   "outputs": [],
   "source": [
    "# adding NaCl and KCl to the box\n",
    "\n",
    "# am confused about the mdp file used. the file uses 1nm as the cutoff distances for WDW/coulomb interactions\n",
    "# while the cutoff used in actual simulation is 1.2\n",
    "gmx_mpi grompp -f mdp_files/ions.mdp -c template_solv.gro -p topol.top -o genion_NaCl_input.tpr\n",
    "gmx_mpi genion -s genion_NaCl_input.tpr -o genion_NaCl_output.gro -conc 0.137 -pname NA -nname CL -p topol.top\n",
    "\n",
    "gmx_mpi grompp -f mdp_files/ions.mdp -c genion_NaCl_output.gro -p topol.top -o genion_KCl_input.tpr\n",
    "gmx_mpi genion -s genion_KCl_input.tpr -o genion_KCl_output.gro -conc 0.137 -pname NA -nname CL -p topol.top"
   ]
  },
  {
   "cell_type": "code",
   "execution_count": 4,
   "metadata": {},
   "outputs": [],
   "source": [
    "# energy minimization\n",
    "# same confusion as previous cell regarding mdp file, cutoff distances and other parameters different\n",
    "gmx_mpi grompp -f mdp_files/em.mdp -c genion_KCl_output.gro -p topol.top -o em_input.tpr -maxwarn 1\n",
    "gerun gmx_mpi mdrun -s em_input.tpr -o em.trr -x em.xtc -c em_output.gro -g em.log -e em.edr -v -maxh 10 &> em1_log"
   ]
  },
  {
   "cell_type": "code",
   "execution_count": null,
   "metadata": {},
   "outputs": [],
   "source": [
    "# preliminary 2-ns simulation at 600 K in the NVT ensemble\n",
    "# the paper doesn't mention position restraints. so no position restraints?\n",
    "# also which thermostat to use?\n",
    "gmx_mpi grompp -f mdp_files/nvt_600.mdp -c em_output.gro -p topol.top -o nvt_600_input.tpr -maxwarn 1\n",
    "gmx_mpi mdrun -s nvt_600_input.tpr -o nvt_600.trr -x nvt_600.xtc -c nvt_600_output.gro -g nvt_600.log -e nvt.edr -v &> nvt_run.log"
   ]
  },
  {
   "cell_type": "code",
   "execution_count": null,
   "metadata": {},
   "outputs": [],
   "source": [
    "# algorithm to extract 48 confirmations"
   ]
  },
  {
   "cell_type": "code",
   "execution_count": null,
   "metadata": {},
   "outputs": [],
   "source": [
    "# NVT and NPT equilibration with position restraints on heavy atoms\n"
   ]
  }
 ],
 "metadata": {
  "kernelspec": {
   "display_name": "Python 3 (ipykernel)",
   "language": "python",
   "name": "python3"
  },
  "language_info": {
   "codemirror_mode": {
    "name": "ipython",
    "version": 3
   },
   "file_extension": ".py",
   "mimetype": "text/x-python",
   "name": "python",
   "nbconvert_exporter": "python",
   "pygments_lexer": "ipython3",
   "version": "3.7.12"
  }
 },
 "nbformat": 4,
 "nbformat_minor": 2
}
