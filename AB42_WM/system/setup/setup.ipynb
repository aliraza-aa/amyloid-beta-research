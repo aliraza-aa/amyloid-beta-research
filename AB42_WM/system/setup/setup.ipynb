{
 "cells": [
  {
   "cell_type": "code",
   "execution_count": null,
   "metadata": {},
   "outputs": [],
   "source": [
    "\n",
    "gmx_mpi pdb2gmx -f ../template.pdb -o template.gro -water tip3p\n",
    "\n",
    "# -------------------------------------------------------\n",
    "# Program:     gmx pdb2gmx, version 2022.5-plumed_2.9.0\n",
    "# Source file: src/gromacs/gmxpreprocess/ter_db.cpp (line 138)\n",
    "# Function:    void read_atom(char*, bool, std::string*, t_atom*, PreprocessingAtomTypes*, int*)\n",
    "\n",
    "# Inconsistency in user input:\n",
    "# Atom type OH specified in terminal database has not been defined in the force\n",
    "# field\n",
    "\n",
    "# For more information and tips for troubleshooting, please check the GROMACS\n",
    "# website at http://www.gromacs.org/Documentation/Errors\n",
    "# -------------------------------------------------------\n",
    "\n",
    "# Changed aminoacids.c.tdb OH to OH1.This worked! Potential typo in force field files?\n",
    "\n",
    "gmx_mpi editconf -f ../template.gro -o template_newbox.gro -c -d 1.0 -bt dodecahedron\n",
    "# output of the above command Volume: 362.038 nm^3\n",
    "\n",
    "gmx_mpi editconf -f ../template.gro -o template_newbox2.gro -c -d 2.0 -bt dodecahedron\n",
    "\n",
    "gmx_mpi solvate -cp template_newbox.gro -cs spc216.gro -o template_solv.gro -p ../topol.top\n",
    "# only 5922 solvent molecules added compared to 11000 in the paper\n",
    "\n",
    "gmx_mpi solvate -cp template_newbox2.gro -cs spc216.gro -o template_solv2.gro -p ../topol_orig.top\n",
    "\n",
    "# WARNING: Masses and atomic (Van der Waals) radii will be guessed\n",
    "#          based on residue and atom names, since they could not be\n",
    "#          definitively assigned from the information in your input\n",
    "#          files. These guessed numbers might deviate from the mass\n",
    "#          and radius of the atom type. Please check the output\n",
    "#          files if necessary. Note, that this functionality may\n",
    "#          be removed in a future GROMACS version. Please, consider\n",
    "#          using another file format for your input.\n",
    "\n",
    "# NOTE: From version 5.0 gmx solvate uses the Van der Waals radii\n",
    "# from the source below. This means the results may be different\n",
    "# compared to previous GROMACS versions.\n",
    "\n",
    "# ++++ PLEASE READ AND CITE THE FOLLOWING REFERENCE ++++\n",
    "# A. Bondi\n",
    "# van der Waals Volumes and Radii\n",
    "# J. Phys. Chem. 68 (1964) pp. 441-451"
   ]
  },
  {
   "cell_type": "code",
   "execution_count": 2,
   "metadata": {},
   "outputs": [],
   "source": [
    "# adding NaCl and KCl to the box\n",
    "\n",
    "# am confused about the mdp file used. the file uses 1nm as the cutoff distances for WDW/coulomb interactions\n",
    "# while the cutoff used in actual simulation is 1.2\n",
    "gmx_mpi grompp -f ../mdp_files/ions.mdp -c template_solv.gro -p ../topol.top -o genion_NaCl_input.tpr\n",
    "gmx_mpi genion -s genion_NaCl_input.tpr -o genion_NaCl_output.gro -conc 0.137 -pname NA -nname CL -p ../topol.top\n",
    "\n",
    "gmx_mpi grompp -f ../mdp_files/ions.mdp -c genion_NaCl_output.gro -p ../topol.top -o genion_KCl_input.tpr\n",
    "gmx_mpi genion -s genion_KCl_input.tpr -o genion_KCl_output.gro -conc 0.00268 -pname K -nname CL -p ../topol.top"
   ]
  },
  {
   "cell_type": "code",
   "execution_count": 4,
   "metadata": {},
   "outputs": [],
   "source": [
    "# energy minimization\n",
    "# same confusion as previous cell regarding mdp file, cutoff distances and other parameters different\n",
    "gmx_mpi grompp -f ../mdp_files/em.mdp -c genion_KCl_output.gro -p ../topol.top -o em_input.tpr -maxwarn 1\n",
    "gerun gmx_mpi mdrun -s em_input.tpr -o em.trr -x em.xtc -c em_output.gro -g em.log -e em.edr -v -maxh 10\n",
    "\n",
    "# Steepest Descents converged to Fmax < 1000 in 101 steps\n",
    "# Potential Energy  = -2.6635816e+05\n",
    "# Maximum force     =  9.3316010e+02 on atom 409\n",
    "# Norm of force     =  7.3510789e+01"
   ]
  },
  {
   "cell_type": "code",
   "execution_count": null,
   "metadata": {},
   "outputs": [],
   "source": [
    "# preliminary 2-ns simulation at 600 K in the NVT ensemble\n",
    "# the paper doesn't mention position restraints. so no position restraints? obv no posres cuz want to find max rms replicas\n",
    "# also which thermostat to use?\n",
    "gmx_mpi grompp -f ../mdp_files/nvt-run-600.mdp -c em_output.gro -p ../topol.top -o nvt_600_input.tpr -maxwarn 1\n",
    "gerun gmx_mpi mdrun -s nvt_600_input.tpr -o nvt_600.trr -x nvt_600.xtc -c nvt_600_output.gro -g nvt_600.log -e nvt.edr -v &> nvt_600.log"
   ]
  },
  {
   "cell_type": "code",
   "execution_count": 2,
   "metadata": {},
   "outputs": [],
   "source": [
    "# algorithm to extract 48 confirmations\n",
    "\n",
    "import os\n",
    "import sys\n",
    "import numpy as np\n",
    "import matplotlib.pyplot as plt\n",
    "from matplotlib import colors\n",
    "import math\n",
    "from numpy import log2, zeros, mean, var, sum, loadtxt, arange, \\\n",
    "                  array, cumsum, dot, transpose, diagonal, floor\n",
    "from numpy.linalg import inv, lstsq\n",
    "import seaborn as sns\n",
    "import scipy.cluster.hierarchy\n",
    "from scipy.spatial.distance import squareform\n",
    "import sklearn\n",
    "from sklearn.decomposition import PCA\n",
    "import itertools\n",
    "import mdtraj as md\n"
   ]
  },
  {
   "cell_type": "code",
   "execution_count": 9,
   "metadata": {},
   "outputs": [],
   "source": [
    "topology=f\"em_output.gro\"\n",
    "trajectory=f\"nvt_600.trr\"\n",
    "    \n",
    "# print(\"pdb:\",topology)\n",
    "# print(\"trjaectory:\",trajectory)"
   ]
  },
  {
   "cell_type": "code",
   "execution_count": 10,
   "metadata": {},
   "outputs": [
    {
     "data": {
      "text/plain": [
       "2001"
      ]
     },
     "execution_count": 10,
     "metadata": {},
     "output_type": "execute_result"
    }
   ],
   "source": [
    "trj = md.load(trajectory, top=topology,stride=1)\n",
    "trj = trj.atom_slice(range(627))\n",
    "trj.center_coordinates()\n",
    "top = trj.topology\n",
    "first_frame = 0\n",
    "last_frame = trj.n_frames\n",
    "n_frames=trj.n_frames\n",
    "\n",
    "n_frames"
   ]
  },
  {
   "cell_type": "code",
   "execution_count": 21,
   "metadata": {},
   "outputs": [
    {
     "name": "stdout",
     "output_type": "stream",
     "text": [
      "201\n"
     ]
    }
   ],
   "source": [
    "trj2 = trj.slice(range(0, 2001, 10))\n",
    "print(trj2.n_frames)"
   ]
  },
  {
   "cell_type": "code",
   "execution_count": 11,
   "metadata": {},
   "outputs": [
    {
     "name": "stdout",
     "output_type": "stream",
     "text": [
      "** SYSTEM INFO **\n",
      "\n",
      "Number of atoms: 627\n",
      "\n",
      "Number of residues: 42\n",
      "\n",
      "Number of frames: 2001\n",
      "\n",
      "Starting frame: 0\n",
      "\n",
      "Last frame: 2001\n",
      "\n",
      "sequence:  [ASP1, ALA2, GLU3, PHE4, ARG5, HIS6, ASP7, SER8, GLY9, TYR10, GLU11, VAL12, HIS13, HIS14, GLN15, LYS16, LEU17, VAL18, PHE19, PHE20, ALA21, GLU22, ASP23, VAL24, GLY25, SER26, ASN27, LYS28, GLY29, ALA30, ILE31, ILE32, GLY33, LEU34, MET35, VAL36, GLY37, GLY38, VAL39, VAL40, ILE41, ALA42]\n",
      "\n",
      "residue names:  ['ASP', 'ALA', 'GLU', 'PHE', 'ARG', 'HIS', 'ASP', 'SER', 'GLY', 'TYR', 'GLU', 'VAL', 'HIS', 'HIS', 'GLN', 'LYS', 'LEU', 'VAL', 'PHE', 'PHE', 'ALA', 'GLU', 'ASP', 'VAL', 'GLY', 'SER', 'ASN', 'LYS', 'GLY', 'ALA', 'ILE', 'ILE', 'GLY', 'LEU', 'MET', 'VAL', 'GLY', 'GLY', 'VAL', 'VAL', 'ILE', 'ALA']\n",
      "\n",
      "residue number:  [1, 2, 3, 4, 5, 6, 7, 8, 9, 10, 11, 12, 13, 14, 15, 16, 17, 18, 19, 20, 21, 22, 23, 24, 25, 26, 27, 28, 29, 30, 31, 32, 33, 34, 35, 36, 37, 38, 39, 40, 41, 42]\n",
      "\n",
      "residue index:  [0, 1, 2, 3, 4, 5, 6, 7, 8, 9, 10, 11, 12, 13, 14, 15, 16, 17, 18, 19, 20, 21, 22, 23, 24, 25, 26, 27, 28, 29, 30, 31, 32, 33, 34, 35, 36, 37, 38, 39, 40, 41]\n",
      "\n"
     ]
    }
   ],
   "source": [
    "nres=[]\n",
    "\n",
    "\n",
    "\n",
    "for res in trj.topology.residues: nres.append(res.resSeq)\n",
    "sequence=(' %s' % [residue for residue in trj.topology.residues])\n",
    "resname=(' %s' % [residue.name for residue in trj.topology.residues])\n",
    "resindex=(' %s' % [residue.index for residue in trj.topology.residues])\n",
    "res_num=(' %s' % [residue.resSeq  for residue in trj.topology.residues])\n",
    "\n",
    "\n",
    "\n",
    "#log = open(\"/Users/paulrobustelli/Desktop/Sa_calc.log\", \"w\")\n",
    "print(\"** SYSTEM INFO **\\n\")\n",
    "print(\"Number of atoms: %d\\n\" % trj.n_atoms)\n",
    "print(\"Number of residues: %d\\n\" % len(set(nres)))\n",
    "print(\"Number of frames: %d\\n\" % trj.n_frames)\n",
    "print(\"Starting frame: %d\\n\" % first_frame)\n",
    "print(\"Last frame: %d\\n\" % last_frame)\n",
    "print(\"sequence: %s\\n\" % sequence)\n",
    "print(\"residue names: %s\\n\" % resname)\n",
    "print(\"residue number: %s\\n\" % res_num)\n",
    "print(\"residue index: %s\\n\" % resindex)\n"
   ]
  },
  {
   "cell_type": "code",
   "execution_count": 24,
   "metadata": {},
   "outputs": [
    {
     "data": {
      "text/plain": [
       "148"
      ]
     },
     "execution_count": 24,
     "metadata": {},
     "output_type": "execute_result"
    }
   ],
   "source": [
    "rmsd = md.rmsd(trj2, trj2, 0)\n",
    "# print(max(rmsd))\n",
    "rmsd = md.rmsd(trj2, trj2, 0)\n",
    "\n",
    "# Find the index of the maximum value\n",
    "max_index = np.argmax(rmsd)\n",
    "max_index"
   ]
  },
  {
   "cell_type": "code",
   "execution_count": 27,
   "metadata": {},
   "outputs": [
    {
     "data": {
      "text/plain": [
       "[1486,\n",
       " 1209,\n",
       " 1208,\n",
       " 1220,\n",
       " 1182,\n",
       " 1197,\n",
       " 1471,\n",
       " 1476,\n",
       " 1168,\n",
       " 1244,\n",
       " 1059,\n",
       " 1483,\n",
       " 1484,\n",
       " 1485,\n",
       " 1183,\n",
       " 1184,\n",
       " 1135,\n",
       " 1185,\n",
       " 1217,\n",
       " 1352,\n",
       " 931,\n",
       " 1136,\n",
       " 1137,\n",
       " 837,\n",
       " 1203,\n",
       " 1219,\n",
       " 1249,\n",
       " 1468,\n",
       " 1148,\n",
       " 1475,\n",
       " 1243,\n",
       " 836,\n",
       " 1202,\n",
       " 1487,\n",
       " 1488,\n",
       " 1428,\n",
       " 1437,\n",
       " 1207,\n",
       " 1865,\n",
       " 1460,\n",
       " 1869,\n",
       " 1870,\n",
       " 1149,\n",
       " 1469,\n",
       " 1470,\n",
       " 1090,\n",
       " 1196,\n",
       " 1198]"
      ]
     },
     "execution_count": 27,
     "metadata": {},
     "output_type": "execute_result"
    }
   ],
   "source": [
    "# https://stackoverflow.com/questions/63321109/algorithm-for-selecting-a-subset-of-most-distant-elements\n",
    "def find_largest_values(N, M):\n",
    "    candidates = []  # List to store pairs (j, l(j))\n",
    "    S_prime = []  # Resulting subset\n",
    "\n",
    "    # Calculate pairwise distances and initialize candidates list\n",
    "    for i in range(N):\n",
    "            rmsd = md.rmsd(trj, trj, i)\n",
    "            rmsd = np.delete(rmsd, i)\n",
    "\n",
    "            l_i = min(rmsd)\n",
    "            candidates.append((i, l_i))\n",
    "\n",
    "    # Sort candidates list by l(i) in descending order\n",
    "    candidates.sort(key=lambda x: x[1], reverse=True)\n",
    "\n",
    "    # Select M elements with the largest values of l(i)\n",
    "    for i in range(M):\n",
    "        current_index, current_l_value = candidates[i]\n",
    "        S_prime.append(current_index)\n",
    "\n",
    "    return S_prime\n",
    "\n",
    "indxs = find_largest_values(trj.n_frames, 48)\n",
    "indxs"
   ]
  },
  {
   "cell_type": "code",
   "execution_count": null,
   "metadata": {},
   "outputs": [],
   "source": [
    "# NVT and NPT equilibration with position restraints on heavy atoms\n"
   ]
  }
 ],
 "metadata": {
  "kernelspec": {
   "display_name": "Python 3 (ipykernel)",
   "language": "python",
   "name": "python3"
  },
  "language_info": {
   "codemirror_mode": {
    "name": "ipython",
    "version": 3
   },
   "file_extension": ".py",
   "mimetype": "text/x-python",
   "name": "python",
   "nbconvert_exporter": "python",
   "pygments_lexer": "ipython3",
   "version": "3.7.12"
  }
 },
 "nbformat": 4,
 "nbformat_minor": 2
}
