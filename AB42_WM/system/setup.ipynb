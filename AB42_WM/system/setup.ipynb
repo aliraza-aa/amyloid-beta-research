{
 "cells": [
  {
   "cell_type": "code",
   "execution_count": null,
   "metadata": {},
   "outputs": [],
   "source": [
    "gmx_mpi pdb2gmx -f template.pdb -o template.gro -water tip3p"
   ]
  }
 ],
 "metadata": {
  "language_info": {
   "name": "python"
  }
 },
 "nbformat": 4,
 "nbformat_minor": 2
}
