{
 "cells": [
  {
   "cell_type": "markdown",
   "id": "23fdf502",
   "metadata": {},
   "source": [
    "# Analysis of inter-residue contacts \n",
    "\n",
    "a03ws \n",
    "\n",
    "Date analysis started: 17th Feb 2023\n",
    "\n",
    "1. contact-maps\n",
    "2. gromos clustering analysis \n",
    "\n",
    "working in /home/alice/Data/orf6/MD/analysis/\n"
   ]
  },
  {
   "cell_type": "markdown",
   "id": "f2124c07",
   "metadata": {},
   "source": [
    "make ndx for each residue \n",
    "\n",
    "# make index file of atoms grouped per residue \n",
    "#note this is for alice's N-terminal acetylation\n",
    "gmx make_ndx -f ../confout.gro -o res.ndx \n",
    "\n",
    "splitres 1\n",
    "\n",
    "group together ACE and SER2\n",
    "\n",
    "10 | 11\n",
    "\n",
    "32 Protein_ACE_1_Protein_SER_2:    17 atoms\n",
    "\n",
    "remove individual ACE and SER2 \n",
    "\n",
    "del 10 (x2) \n"
   ]
  },
  {
   "cell_type": "code",
   "execution_count": 1,
   "id": "e4136876",
   "metadata": {},
   "outputs": [
    {
     "ename": "SyntaxError",
     "evalue": "invalid syntax (3485337344.py, line 1)",
     "output_type": "error",
     "traceback": [
      "\u001b[0;36m  Cell \u001b[0;32mIn [1], line 1\u001b[0;36m\u001b[0m\n\u001b[0;31m    also doing for a03ws prot\u001b[0m\n\u001b[0m         ^\u001b[0m\n\u001b[0;31mSyntaxError\u001b[0m\u001b[0;31m:\u001b[0m invalid syntax\n"
     ]
    }
   ],
   "source": [
    "also doing for a03ws prot \n",
    "\n",
    "# make index file of atoms grouped per residue \n",
    "gmx make_ndx -f ../confout.gro -o res.ndx \n",
    "\n",
    "PROTEIN_MET_1 PROTEIN_PHE_2 PROTEIN_HIS_3 PROTEIN_LEU_4 PROTEIN_VAL_5 PROTEIN_ASP_6 PROTEIN_PHE_7 PROTEIN_GLN_8 PROTEIN_VAL_9 PROTEIN_THR_10 PROTEIN_ILE_11 PROTEIN_ALA_12 PROTEIN_GLU_13 PROTEIN_ILE_14 PROTEIN_LEU_15 PROTEIN_LEU_16 PROTEIN_ILE_17 PROTEIN_ILE_18 PROTEIN_MET_19 PROTEIN_ARG_20 PROTEIN_THR_21 PROTEIN_PHE_22 PROTEIN_LYS_23 PROTEIN_VAL_24 PROTEIN_SER_25 PROTEIN_ILE_26 PROTEIN_TRP_27 PROTEIN_ASN_28 PROTEIN_LEU_29 PROTEIN_ASP_30 PROTEIN_TYR_31 PROTEIN_ILE_32 PROTEIN_ILE_33 PROTEIN_ASN_34 PROTEIN_LEU_35 PROTEIN_ILE_36 PROTEIN_ILE_37 PROTEIN_LYS_38 PROTEIN_ASN_39 PROTEIN_LEU_40 PROTEIN_SER_41 PROTEIN_LYS_42 PROTEIN_SER_43 PROTEIN_LEU_44 PROTEIN_THR_45 PROTEIN_GLU_46 PROTEIN_ASN_47 PROTEIN_LYS_48 PROTEIN_TYR_49 PROTEIN_SER_50 PROTEIN_GLN_51 PROTEIN_LEU_52 PROTEIN_ASP_53 PROTEIN_GLU_54 PROTEIN_GLU_55 PROTEIN_GLN_56 PROTEIN_PRO_57 PROTEIN_MET_58 PROTEIN_GLU_59 PROTEIN_ILE_60 PROTEIN_ASP_61"
   ]
  },
  {
   "cell_type": "code",
   "execution_count": null,
   "id": "7cf50d02",
   "metadata": {
    "collapsed": true
   },
   "outputs": [],
   "source": [
    "#to calculate LJ and Coul, first need to make new mdp file, then run grompp, then submit new runscript, see below.\n",
    "\n",
    "\n",
    "#run this on giant concatenated trajectory.\n"
   ]
  },
  {
   "cell_type": "markdown",
   "id": "5d9444a1",
   "metadata": {},
   "source": [
    "### mdp same as 7-npt run with energy groups adjustment \n",
    "\n",
    "; VARIOUS PREPROCESSING OPTIONS\n",
    "; Preprocessor information: use cpp syntax.\n",
    "; e.g.: -I/home/joe/doe -I/home/mary/roe\n",
    "include                  = \n",
    "; e.g.: -DPOSRES -DFLEXIBLE (note these variable names are case sensitive)\n",
    "define                   = \n",
    " \n",
    "; RUN CONTROL PARAMETERS\n",
    "integrator               = md\n",
    "; Start time and timestep in ps\n",
    "tinit                    = 0\n",
    "dt                       = 0.003\n",
    "nsteps                  = -1    \n",
    " \n",
    "; For exact run continuation or redoing part of a run\n",
    "init_step                = 0\n",
    "; Part index is updated automatically on checkpointing (keeps files separate)\n",
    "simulation_part          = 1\n",
    "; mode for center of mass motion removal\n",
    "comm-mode                = Linear\n",
    "; number of steps for center of mass motion removal\n",
    "nstcomm                  = 50\n",
    "; group(s) for center of mass motion removal\n",
    "comm-grps                = \n",
    " \n",
    "; OUTPUT CONTROL OPTIONS\n",
    "; Output frequency for coords (x), velocities (v) and forces (f)\n",
    "nstxout                  = 0\n",
    "nstvout                  = 0\n",
    "nstfout                  = 0\n",
    "; Output frequency for energies to log file and energy file\n",
    "nstlog                   = 0\n",
    "nstcalcenergy            = 1\n",
    "nstenergy                = 1\n",
    "; Output frequency and precision for .xtc file\n",
    "nstxout-compressed       = 0\n",
    "compressed-x-precision   = 0\n",
    "; This selects the subset of atoms for the compressed\n",
    "; trajectory file. You can select multiple groups. By\n",
    "; default, all atoms will be written.\n",
    "compressed-x-grps        = protein\n",
    "; Selection of energy groups\n",
    "energygrps               = Protein_ACE_1_Protein_SER_2 Protein_LYS_3 Protein_SER_4 Protein_LEU_5 Protein_THR_6 Protein_GLU_7 Protein_ASN_8 Protein_LYS_9 Protein_TYR_10 Protein_SER_11 Protein_GLN_12 Protein_LEU_13 Protein_ASP_14 Protein_GLU_15 Protein_GLU_16 Protein_GLN_17 Protein_PRO_18 Protein_MET_19 Protein_GLU_20 Protein_ILE_21 Protein_ASP_22 \n",
    " \n",
    "; NEIGHBORSEARCHING PARAMETERS\n",
    "; cut-off scheme (Verlet: particle based cut-offs, group: using charge groups)\n",
    "cutoff-scheme            = Verlet\n",
    "; nblist update frequency\n",
    "nstlist                  = 10\n",
    "; ns algorithm (simple or grid)\n",
    "ns_type                  = grid\n",
    "; Periodic boundary conditions: xyz, no, xy\n",
    "pbc                      = xyz\n",
    "periodic_molecules       = no\n",
    "; Allowed energy error due to the Verlet buffer in kJ/mol/ps per atom,\n",
    "; a value of -1 means: use rlist\n",
    "verlet-buffer-tolerance  = 0.001\n",
    "; nblist cut-off        \n",
    "rlist                    = 1.2\n",
    " \n",
    "; OPTIONS FOR ELECTROSTATICS AND VDW\n",
    "; Method for doing electrostatics\n",
    "coulombtype              = pme\n",
    "coulomb-modifier         = Potential-shift-Verlet\n",
    "rcoulomb-switch          = 0\n",
    "rcoulomb                 = 1.2\n",
    "; Relative dielectric constant for the medium and the reaction field\n",
    "epsilon_r                = 1\n",
    "epsilon_rf               = 1\n",
    "; Method for doing Van der Waals\n",
    "vdw-type                 = cut-off\n",
    "vdw-modifier             = Potential-shift-Verlet\n",
    "; cut-off lengths       \n",
    "rvdw-switch              = 0\n",
    "rvdw                     = 1.2\n",
    "; Apply long range dispersion corrections for Energy and Pressure\n",
    "DispCorr                 = \n",
    "; Extension of the potential lookup tables beyond the cut-off\n",
    "table-extension          = 1\n",
    "; Separate tables between energy group pairs\n",
    "energygrp-table          = \n",
    "; Spacing for the PME/PPPM FFT grid\n",
    "fourierspacing           = 0.12\n",
    "; FFT grid size, when a value is 0 fourierspacing will be used\n",
    "fourier_nx               = 0\n",
    "fourier_ny               = 0\n",
    "fourier_nz               = 0\n",
    "; EWALD/PME/PPPM parameters\n",
    "pme_order                = 4\n",
    "ewald_rtol               = 1e-05\n",
    "ewald-rtol-lj            = 0.001\n",
    "lj-pme-comb-rule         = Geometric\n",
    "ewald_geometry           = 3d\n",
    "epsilon_surface          = 0\n",
    " \n",
    "; OPTIONS FOR WEAK COUPLING ALGORITHMS\n",
    "; Temperature coupling  \n",
    "Tcoupl                   = v-rescale\n",
    "nsttcouple               = -1\n",
    "nh-chain-length          = 10\n",
    "print-nose-hoover-chain-variables = no\n",
    "; Groups to couple separately\n",
    "tc-grps                  = system\n",
    "; Time constant (ps) and reference temperature (K)\n",
    "tau_t                    = 0.2\n",
    "ref_t                    = 310\n",
    "; pressure coupling     \n",
    "Pcoupl                   = parrinello-rahman\n",
    "Pcoupltype               = isotropic\n",
    "nstpcouple               = -1\n",
    "; Time constant (ps), compressibility (1/bar) and reference P (bar)\n",
    "tau_p                    = 1.0\n",
    "compressibility          = 4.5e-5\n",
    "ref_p                    = 1.0\n",
    "; Scaling of reference coordinates, No, All or COM\n",
    "refcoord_scaling         = No\n",
    " \n",
    "; GENERATE VELOCITIES FOR STARTUP RUN\n",
    "gen_vel                  = no\n",
    "gen_temp                 = \n",
    "gen_seed                 = -1\n",
    " \n",
    "; OPTIONS FOR BONDS    \n",
    "constraints              = all-bonds\n",
    ";constraints              = h-bonds\n",
    "; Type of constraint algorithm\n",
    "constraint-algorithm     = Lincs\n",
    "; Do not constrain the start configuration\n",
    "continuation             = no\n",
    "; Use successive overrelaxation to reduce the number of shake iterations\n",
    "Shake-SOR                = no\n",
    "; Relative tolerance of shake\n",
    "shake-tol                = 0.0001\n",
    "; Highest order in the expansion of the constraint coupling matrix\n",
    "lincs-order              = 6\n",
    "; Number of iterations in the final step of LINCS. 1 is fine for\n",
    "; normal simulations, but use 2 to conserve energy in NVE runs.\n",
    "; For energy minimization with constraints it should be 4 to 8.\n",
    "lincs-iter               = 2\n",
    "; Lincs will write a warning to the stderr if in one step a bond\n",
    "; rotates over more degrees than\n",
    "lincs-warnangle          = 30\n",
    "; Convert harmonic bonds to morse potentials\n",
    "morse                    = no\n",
    " "
   ]
  },
  {
   "cell_type": "markdown",
   "id": "f697d3ef",
   "metadata": {},
   "source": [
    "## add to mdp peptide \n",
    "# note that ace group specific to alice's peptide.\n",
    "energygrps  = Protein_ACE_1_Protein_SER_2 Protein_LYS_3 Protein_SER_4 Protein_LEU_5 Protein_THR_6 Protein_GLU_7 Protein_ASN_8 Protein_LYS_9 Protein_TYR_10 Protein_SER_11 Protein_GLN_12 Protein_LEU_13 Protein_ASP_14 Protein_GLU_15 Protein_GLU_16 Protein_GLN_17 Protein_PRO_18 Protein_MET_19 Protein_GLU_20 Protein_ILE_21 Protein_ASP_22 "
   ]
  },
  {
   "cell_type": "markdown",
   "id": "1483482d",
   "metadata": {},
   "source": [
    "## add to mdp protein CTR \n",
    "\n",
    "energygrps = Protein_MET_1 Protein_PHE_2 Protein_HIS_3 Protein_LEU_4 Protein_VAL_5 Protein_ASP_6 Protein_PHE_7 Protein_GLN_8 Protein_VAL_9 Protein_THR_10 Protein_ILE_11 Protein_ALA_12 Protein_GLU_13 Protein_ILE_14 Protein_LEU_15 Protein_LEU_16 Protein_ILE_17 Protein_ILE_18 Protein_MET_19 Protein_ARG_20 Protein_THR_21 Protein_PHE_22 Protein_LYS_23 Protein_VAL_24 Protein_SER_25 Protein_ILE_26 Protein_TRP_27 Protein_ASN_28 Protein_LEU_29 Protein_ASP_30 Protein_TYR_31 Protein_ILE_32 Protein_ILE_33 Protein_ASN_34 Protein_LEU_35 Protein_ILE_36 Protein_ILE_37 Protein_LYS_38 Protein_ASN_39 Protein_LEU_40 Protein_SER_41 Protein_LYS_42 Protein_SER_43 Protein_LEU_44 Protein_THR_45 Protein_GLU_46 Protein_ASN_47 Protein_LYS_48 Protein_TYR_49 Protein_SER_50 Protein_GLN_51 Protein_LEU_52 Protein_ASP_53 Protein_GLU_54 Protein_GLU_55 Protein_GLN_56 Protein_PRO_57 Protein_MET_58 Protein_GLU_59 Protein_ILE_60 Protein_ASP_61"
   ]
  },
  {
   "cell_type": "code",
   "execution_count": null,
   "id": "52bd4727",
   "metadata": {
    "collapsed": true
   },
   "outputs": [],
   "source": [
    "# need to create topol without water\n",
    "\n",
    "# make tpr file\n",
    "gmx grompp -f contacts.mdp -c ../confout.gro -o contacts.tpr -n res.ndx -p topol_noW.top -maxwarn 1"
   ]
  },
  {
   "cell_type": "markdown",
   "id": "292a489e",
   "metadata": {},
   "source": [
    "\n",
    "# make srun script \n",
    "srun --distribution=block:block --hint=nomultithread gmx_mpi mdrun -s contacts -rerun traj_all-skip-0-noW-whole.trr -ntomp $OMP_NUM_THREADS &> log\n",
    "\n",
    "#upload to archer2 and submit \n",
    "\n",
    "rsync -hvart contacts alice98@login.archer2.ac.uk:/work/e692/e692/alice98/orf6/peptide/sims/a03ws/7-npt-metad-5fs/skip-2-workup_19_01_2023/\n",
    "\n",
    "gmx_mpi energy -f ener.edr -noaver\n",
    "\n",
    "LJ-SR\n",
    "enter\n",
    "enter\n",
    "\n",
    "save as LJ.xvg\n",
    "\n",
    "gmx_mpi energy -f ener.edr -noaver\n",
    "\n",
    "Coul-SR\n",
    "enter\n",
    "enter\n",
    "\n",
    "save as Coul.xvg\n",
    "ls"
   ]
  },
  {
   "cell_type": "markdown",
   "id": "620174da",
   "metadata": {},
   "source": [
    "# Download back to local desktop for analysis "
   ]
  },
  {
   "cell_type": "markdown",
   "id": "989d3e1c",
   "metadata": {},
   "source": [
    "rsync -hvart alice98@login.archer2.ac.uk:/work/e692/e692/alice98/orf6/peptide/sims/a03ws/7-npt-metad-5fs/skip-2-workup_19_01_2023/contacts ."
   ]
  },
  {
   "cell_type": "code",
   "execution_count": 1,
   "id": "9718e652",
   "metadata": {},
   "outputs": [
    {
     "data": {
      "application/vnd.jupyter.widget-view+json": {
       "model_id": "7cd67ac87bf94b648c6ae73d2c567b55",
       "version_major": 2,
       "version_minor": 0
      },
      "text/plain": []
     },
     "metadata": {},
     "output_type": "display_data"
    },
    {
     "name": "stderr",
     "output_type": "stream",
     "text": [
      "/home/alice/anaconda3/envs/mdaenv/lib/python3.8/site-packages/Bio/pairwise2.py:278: BiopythonDeprecationWarning: Bio.pairwise2 has been deprecated, and we intend to remove it in a future release of Biopython. As an alternative, please consider using Bio.Align.PairwiseAligner as a replacement, and contact the Biopython developers if you still need the Bio.pairwise2 module.\n",
      "  warnings.warn(\n"
     ]
    }
   ],
   "source": [
    "import numpy as np \n",
    "import os,sys\n",
    "import matplotlib.pyplot as plt\n",
    "import numpy as np\n",
    "import mdtraj as md\n",
    "import nglview as nv\n",
    "import matplotlib.colors as clr\n",
    "import pandas as pd\n",
    "from glob import glob\n",
    "from itertools import *\n",
    "import math\n",
    "from matplotlib.ticker import FormatStrFormatter\n",
    "from matplotlib.ticker import StrMethodFormatter\n",
    "import seaborn as sns\n",
    "import matplotlib.pyplot as plt; plt.rcdefaults()\n",
    "%matplotlib inline\n",
    "import MDAnalysis as mda\n",
    "from MDAnalysis import analysis \n",
    "from MDAnalysis.analysis import encore\n",
    "from MDAnalysis.analysis.encore.clustering import ClusteringMethod as clm \n",
    "import networkx as nx\n",
    "import moviepy.editor as mpy\n",
    "from scipy.linalg import norm\n",
    "from scipy.spatial.distance import euclidean \n",
    "from scipy.spatial.distance import jensenshannon\n",
    "from scipy.stats import gaussian_kde\n",
    "from time import sleep\n",
    "from math import pi\n",
    "from scipy import stats\n",
    "from scipy.stats import norm\n",
    "from scipy.spatial import distance"
   ]
  },
  {
   "cell_type": "code",
   "execution_count": 2,
   "id": "a94579a5",
   "metadata": {
    "collapsed": true
   },
   "outputs": [],
   "source": [
    "#Define function to return the weighted average and standard deviation\n",
    "def weighted_avg_and_std(values, weights):\n",
    "    average = np.average(values, weights=weights)\n",
    "    variance = np.average((values-average)**2, weights=weights)\n",
    "    return (average, math.sqrt(variance))"
   ]
  },
  {
   "cell_type": "code",
   "execution_count": 3,
   "id": "e92aa25b",
   "metadata": {},
   "outputs": [
    {
     "data": {
      "text/plain": [
       "<Figure size 800x400 with 0 Axes>"
      ]
     },
     "metadata": {},
     "output_type": "display_data"
    }
   ],
   "source": [
    "#Define some presets for plotting\n",
    "plt.rcParams['font.serif'] = \"Arial\"\n",
    "plt.rcParams['font.family'] = \"serif\"\n",
    "plt.rcParams.update({'font.size': 18,'font.weight': 'bold'})\n",
    "\n",
    "# define figure size \n",
    "fig = plt.figure(figsize=(8, 4))\n",
    "\n",
    "#Define colors \n",
    "\n",
    "## a03ws\n",
    "c_a03ws = (1,0.6471,0)   #set color for ORF6 points (divide rgb by 255) orange1\t#FFA500\tRGB(255,165,0)\n",
    "d_a03ws = (0.8,0.518,0) # set colour for top of colour bar (divide rgb by 255) --> #CC8400(204,132,0)\n",
    "e_a03ws = (0.6,0.39,0) # set colour for top of colour bar (divide rgb by 255) --> #996300 (153,99,0)\n",
    "f_a03ws = (0.5,0.35,0.0039) # set colour for top of colour bar (divide rgb by 255) --> #4c3100 (138, 89, 1)\n",
    "\n",
    "##a99sb\n",
    "c_a99sb = (0.6980,0.2275,0.9333)   #set color for ORF6 points (divide rgb by 255) darkorchid2\t#B23AEE\tRGB(178,58,238)\n",
    "d_a99sb = (0.553,0.067,0.792)   #set color for ORF6 points (divide rgb by 255) --> #8D11CA\t(141, 17, 202)\n",
    "e_a99sb = (0.35,0.04,0.5)   #set color for ORF6 points (divide rgb by 255) --> #590b80 rgb(89,11,128)\n",
    "f_a99sb = (0.10,0.01,0.15)   #set color for ORF6 points (divide rgb by 255) --> #1a0326 rgb(26,3,38)\n",
    "\n",
    "##c36m\n",
    "b_c36m = (0,0.8,0.8)   #set color for ORF6 points (divide rgb by 255) teal\t#003434\tRGB(#00cdcd rgb(0,205,205))\n",
    "c_c36m = (0,0.502,0.502)   #set color for ORF6 points (divide rgb by 255) teal\t#008080\tRGB(0,128,128)\n",
    "d_c36m = (0,0.3,0.3)   #set color for ORF6 points (divide rgb by 255) teal\t#004d4drgb(0,77,77)\n",
    "e_c36m = (0,0.204,0.204)   #set color for ORF6 points (divide rgb by 255) teal\t#003434\tRGB(0,52,52)\n",
    "\n",
    "#Experimental is grey\n",
    "exp = (0.2,0.21,0.22) #grey (128,128,128)\n",
    "\n",
    "#Define a colormaps\n",
    "\n",
    "ORF6_seq = 'MFHLVDFQVTIAEILLIIMRTFKVSIWNLDYIINLIIKNLSKSLTENKYSQLDEEQPMEID'\n",
    "\n",
    "ORF6_CTR_seq = 'SKSLTENKYSQLDEEQPMEID'\n",
    "\n",
    "cmap_a03ws_con  = clr.LinearSegmentedColormap.from_list('name', [c_a03ws, 'w','grey'], N=256, gamma=1.0)\n",
    "cmap_a03ws_cs_con  = clr.LinearSegmentedColormap.from_list('name', [d_a03ws, 'w','grey'], N=256, gamma=1.0)\n",
    "cmap_a03ws_prot_con  = clr.LinearSegmentedColormap.from_list('name', [f_a03ws, 'w','grey'], N=256, gamma=1.0)\n",
    "cmap_a99sb_con  = clr.LinearSegmentedColormap.from_list('name', [c_a99sb, 'w'], N=256, gamma=1.0)\n",
    "cmap_c36m_con  = clr.LinearSegmentedColormap.from_list('name', [c_c36m, 'w'], N=256, gamma=1.0)\n",
    "\n",
    "cmap_a03ws_circ  = clr.LinearSegmentedColormap.from_list('name', [c_a03ws,'w'], N=256, gamma=1.0)\n",
    "cmap_a03ws_cs_circ  = clr.LinearSegmentedColormap.from_list('name', [d_a03ws, 'w'], N=256, gamma=1.0)\n"
   ]
  },
  {
   "cell_type": "code",
   "execution_count": 4,
   "id": "87eafee6",
   "metadata": {},
   "outputs": [
    {
     "name": "stdout",
     "output_type": "stream",
     "text": [
      "/mnt/raid1/Alice/orf6/MD/analysis\n"
     ]
    }
   ],
   "source": [
    "cd /home/alice/Data/orf6/MD/analysis/"
   ]
  },
  {
   "cell_type": "markdown",
   "id": "a4503fec",
   "metadata": {},
   "source": [
    "Examine whether inter-residue contacts. This analysis is based on Lennard Jones (LJ) and Coulomb (Coul) interaction energies between residues calculated using the GROMACS gmx energy tool. Only short-range interaction energies were considered within a 1.2 nm cut-off. LJ contacts will also be used as input for the GROMOS (4) clustering analysis.\n",
    "\n",
    "Any differences with and without CS restraints \n",
    "\n",
    "Reference\n",
    "(4) X. Daura et al., Peptide folding: when simulation meets experiment. Angew. Chem. Int. 38, 236-240 (1999).\n",
    "\n",
    "Taken from Gabi's script \n",
    "\n",
    "https://github.com/gthh2/amyloid-beta_small_mol/blob/master/Metadynamic_metainference/Analysis/Metadynamic_metainference_analysis.ipynb"
   ]
  },
  {
   "cell_type": "code",
   "execution_count": 5,
   "id": "da51eb20",
   "metadata": {
    "collapsed": true
   },
   "outputs": [],
   "source": [
    "#load weights\n",
    "w_a03ws = np.loadtxt('/home/alice/Data/orf6/MD/analysis/a03ws/weights_corr.dat')\n",
    "w_a03ws_cs = np.loadtxt('/home/alice/Data/orf6/MD/analysis/a03ws_cs/weights_corr.dat')\n",
    "w_a03ws_prot = np.loadtxt('/home/alice/Data/orf6/MD/analysis/a03ws_prot/weights_corr.dat')"
   ]
  },
  {
   "cell_type": "code",
   "execution_count": 6,
   "id": "0b8ae0d5",
   "metadata": {},
   "outputs": [
    {
     "name": "stdout",
     "output_type": "stream",
     "text": [
      "0.9999999999999913\n"
     ]
    }
   ],
   "source": [
    "#Normalise metadynamics weights a03ws\n",
    "\n",
    "w_a03ws /= w_a03ws.sum()\n",
    "print(sum(w_a03ws))"
   ]
  },
  {
   "cell_type": "code",
   "execution_count": 7,
   "id": "47fd6a0a",
   "metadata": {},
   "outputs": [
    {
     "name": "stdout",
     "output_type": "stream",
     "text": [
      "0.9999999999999797\n"
     ]
    }
   ],
   "source": [
    "#Normalise metadynamics weights a03ws with CS restraints \n",
    "\n",
    "w_a03ws_cs /= w_a03ws_cs.sum()\n",
    "print(sum(w_a03ws_cs))"
   ]
  },
  {
   "cell_type": "code",
   "execution_count": 8,
   "id": "5651f301",
   "metadata": {},
   "outputs": [
    {
     "name": "stdout",
     "output_type": "stream",
     "text": [
      "0.9999999999999963\n"
     ]
    }
   ],
   "source": [
    "#Normalise metadynamiprot weights a03ws with prot restraints \n",
    "\n",
    "w_a03ws_prot /= w_a03ws_prot.sum()\n",
    "print(sum(w_a03ws_prot))"
   ]
  },
  {
   "cell_type": "code",
   "execution_count": 9,
   "id": "acd77d12",
   "metadata": {},
   "outputs": [
    {
     "name": "stdout",
     "output_type": "stream",
     "text": [
      "Kish for a03ws 42080.88710622398\n",
      "Kish for a03ws with cs 47447.14073406258\n",
      "Kish for a03ws prot 30049.473930051674\n"
     ]
    }
   ],
   "source": [
    "#Now get kish for each of the trajectories w_a03ws and w_a03ws_cs, w_c36m_prot \n",
    "kish_a03ws = ((w_a03ws.sum())*(w_a03ws.sum()))/((w_a03ws*w_a03ws).sum())\n",
    "kish_a03ws_cs = ((w_a03ws_cs.sum())*(w_a03ws_cs.sum()))/((w_a03ws_cs*w_a03ws_cs).sum())\n",
    "kish_a03ws_prot = ((w_a03ws_prot.sum())*(w_a03ws_prot.sum()))/((w_a03ws_prot*w_a03ws_prot).sum())\n",
    "print('Kish for a03ws', kish_a03ws)\n",
    "print('Kish for a03ws with cs', kish_a03ws_cs)\n",
    "print('Kish for a03ws prot', kish_a03ws_prot)"
   ]
  },
  {
   "cell_type": "code",
   "execution_count": null,
   "id": "023ba9b8",
   "metadata": {
    "collapsed": true
   },
   "outputs": [],
   "source": []
  },
  {
   "cell_type": "code",
   "execution_count": null,
   "id": "cad44e44",
   "metadata": {
    "collapsed": true
   },
   "outputs": [],
   "source": []
  },
  {
   "cell_type": "code",
   "execution_count": 10,
   "id": "ccacc114",
   "metadata": {
    "collapsed": true
   },
   "outputs": [],
   "source": [
    "## Select top frames - 40,000 - based on number of states needed to represent ensemble \n",
    "#a03ws\n",
    "\n",
    "top_frames_a03ws = np.random.choice(w_a03ws.shape[0], 40000, p = w_a03ws, replace=False) #select frames from the trajectory. do not use duplicates\n",
    "top_frames_a03ws.sort(axis = 0) #sort the array in place\n",
    "#np.save('a03ws/contacts/top_frames_a03ws', top_frames_a03ws) #save the chosen frames"
   ]
  },
  {
   "cell_type": "code",
   "execution_count": 11,
   "id": "63e23e75",
   "metadata": {
    "collapsed": true
   },
   "outputs": [],
   "source": [
    "## Select top frames - 40,000 - based on number of states needed to represent ensemble \n",
    "#a03ws with CS restraints \n",
    "\n",
    "top_frames_a03ws_cs = np.random.choice(w_a03ws_cs.shape[0], 40000, p = w_a03ws_cs, replace=False) #select frames from the trajectory. do not use duplicates\n",
    "top_frames_a03ws_cs.sort(axis = 0) #sort the array in place\n",
    "#np.save('a03ws_cs/contacts/top_frames_a03ws_cs', top_frames_a03ws_cs) #save the chosen frames"
   ]
  },
  {
   "cell_type": "code",
   "execution_count": 12,
   "id": "a839a92a",
   "metadata": {
    "collapsed": true
   },
   "outputs": [],
   "source": [
    "## Select top frames - 40,000 - based on number of states needed to represent ensemble \n",
    "#a03ws with prot restraints \n",
    "\n",
    "top_frames_a03ws_prot = np.random.choice(w_a03ws_prot.shape[0], 40000, p = w_a03ws_prot, replace=False) #select frames from the trajectory. do not use duplicates\n",
    "top_frames_a03ws_prot.sort(axis = 0) #sort the array in place\n",
    "#np.save('a03ws_prot/contacts/top_frames_a03ws_prot', top_frames_a03ws_prot) #save the chosen frames"
   ]
  },
  {
   "cell_type": "code",
   "execution_count": 13,
   "id": "bb984990",
   "metadata": {
    "collapsed": true
   },
   "outputs": [],
   "source": [
    "#Load in data from GROMACS 'gmx energy' for a03ws\n",
    "Coul_a03ws = np.loadtxt('a03ws/contacts/Coul-SR.xvg', comments=('#', '@'))\n",
    "LJ_a03ws   = np.loadtxt('a03ws/contacts/LJ-SR.xvg', comments=('#', '@'))"
   ]
  },
  {
   "cell_type": "code",
   "execution_count": 14,
   "id": "6b3d1d95",
   "metadata": {
    "collapsed": true
   },
   "outputs": [],
   "source": [
    "#Load in data from GROMACS 'gmx energy' for a03ws_cs\n",
    "Coul_a03ws_cs = np.loadtxt('a03ws_cs/contacts/Coul-SR.xvg', comments=('#', '@'))\n",
    "LJ_a03ws_cs   = np.loadtxt('a03ws_cs/contacts/LJ-SR.xvg', comments=('#', '@'))"
   ]
  },
  {
   "cell_type": "code",
   "execution_count": 16,
   "id": "87d6e559",
   "metadata": {
    "collapsed": true
   },
   "outputs": [],
   "source": [
    "#Load in data from GROMACS 'gmx energy' for a03ws_prot\n",
    "Coul_a03ws_prot = np.loadtxt('a03ws_prot/contacts/Coul-SR.xvg', comments=('#', '@'))\n",
    "LJ_a03ws_prot   = np.loadtxt('a03ws_prot/contacts/LJ-SR.xvg', comments=('#', '@'))"
   ]
  },
  {
   "cell_type": "markdown",
   "id": "88ec286e",
   "metadata": {},
   "source": [
    "peptide has 21 residues \n",
    "from triangular matrix - res0, needs to see all 20, and 21 and the diagonal (+21)\n",
    "(21*20/2)+21 = 231\n",
    "to index 1:232\n"
   ]
  },
  {
   "cell_type": "markdown",
   "id": "1342cc7e",
   "metadata": {},
   "source": [
    "protein has 61 residues \n",
    "from triangular matrix - res0, needs to see all 60, and 61 and the diagonal (+61)\n",
    "(61*60/2)+61 = 1891.0\n",
    "to index 1:1892\n"
   ]
  },
  {
   "cell_type": "code",
   "execution_count": 15,
   "id": "a92bdc28",
   "metadata": {
    "collapsed": true
   },
   "outputs": [],
   "source": [
    "# WITHOUT CS RESTRAINTS \n",
    "\n",
    "#Triangulate the LJ for a03ws alone for each frame:\n",
    "tri_LJ_a03ws = np.empty((len(LJ_a03ws), 21, 21))\n",
    "for i in range(0, len(LJ_a03ws)):\n",
    "    data = LJ_a03ws[i, 1:232]\n",
    "    out = np.zeros((21, 21))\n",
    "    inds = np.triu_indices(len(out))\n",
    "    out[inds] = data\n",
    "    tri_LJ_a03ws[i] = out\n",
    "    \n",
    "#Save matrix    \n",
    "#np.save('a03ws/contacts/LJ_a03ws_matrix', tri_LJ_a03ws) #commented out as file is very large\n",
    "\n",
    "#Account for weights\n",
    "tri_LJ_w_a03ws = tri_LJ_a03ws * np.reshape(w_a03ws.copy(), ((len(w_a03ws)), 1, 1)) \n",
    "\n",
    "#Triangulate the Coul for a03ws alone for each frame:\n",
    "tri_Coul_a03ws = np.empty((len(Coul_a03ws), 21, 21))\n",
    "for i in range(0, len(Coul_a03ws)):\n",
    "    data = Coul_a03ws[i, 1:232]\n",
    "    out = np.zeros((21, 21))\n",
    "    inds = np.triu_indices(len(out))\n",
    "    out[inds] = data\n",
    "    tri_Coul_a03ws[i] = out\n",
    "\n",
    "#Save matrix    \n",
    "#np.save('a03ws/contacts/Coul_a03ws_matrix', tri_Coul_a03ws) #commented out as file is very large\n",
    "\n",
    "#Account for weights\n",
    "tri_Coul_w_a03ws = tri_Coul_a03ws * np.reshape(w_a03ws.copy(), ((len(w_a03ws)), 1, 1)) "
   ]
  },
  {
   "cell_type": "code",
   "execution_count": 16,
   "id": "fe978ba1",
   "metadata": {
    "collapsed": true
   },
   "outputs": [],
   "source": [
    "# WITH CS RESTRAINTS \n",
    "\n",
    "#Triangulate the LJ for a03ws_cs alone for each frame:\n",
    "tri_LJ_a03ws_cs = np.empty((len(LJ_a03ws_cs), 21, 21))\n",
    "for i in range(0, len(LJ_a03ws_cs)):\n",
    "    data = LJ_a03ws_cs[i, 1:232]\n",
    "    out = np.zeros((21, 21))\n",
    "    inds = np.triu_indices(len(out))\n",
    "    out[inds] = data\n",
    "    tri_LJ_a03ws_cs[i] = out\n",
    "    \n",
    "#Save matrix    \n",
    "#np.save('a03ws_cs/contacts/LJ_a03ws_cs_matrix', tri_LJ_a03ws_cs) #commented out as file is very large\n",
    "\n",
    "#Account for weights\n",
    "tri_LJ_w_a03ws_cs = tri_LJ_a03ws_cs * np.reshape(w_a03ws_cs.copy(), ((len(w_a03ws_cs)), 1, 1)) \n",
    "\n",
    "#Triangulate the Coul for a03ws_cs alone for each frame:\n",
    "tri_Coul_a03ws_cs = np.empty((len(Coul_a03ws_cs), 21, 21))\n",
    "for i in range(0, len(Coul_a03ws_cs)):\n",
    "    data = Coul_a03ws_cs[i, 1:232]\n",
    "    out = np.zeros((21, 21))\n",
    "    inds = np.triu_indices(len(out))\n",
    "    out[inds] = data\n",
    "    tri_Coul_a03ws_cs[i] = out\n",
    "\n",
    "#Save matrix    \n",
    "#np.save('a03ws_cs/contacts/Coul_a03ws_cs_matrix', tri_Coul_a03ws_cs) #commented out as file is very large\n",
    "\n",
    "#Account for weights\n",
    "tri_Coul_w_a03ws_cs = tri_Coul_a03ws_cs * np.reshape(w_a03ws_cs.copy(), ((len(w_a03ws_cs)), 1, 1)) "
   ]
  },
  {
   "cell_type": "code",
   "execution_count": 19,
   "id": "949919da",
   "metadata": {
    "collapsed": true
   },
   "outputs": [],
   "source": [
    "# 61 res protein \n",
    "\n",
    "#Triangulate the LJ for a03ws_prot alone for each frame:\n",
    "tri_LJ_a03ws_prot = np.empty((len(LJ_a03ws_prot), 61, 61))\n",
    "for i in range(0, len(LJ_a03ws_prot)):\n",
    "    data = LJ_a03ws_prot[i, 1:1892]\n",
    "    out = np.zeros((61, 61))\n",
    "    inds = np.triu_indices(len(out))\n",
    "    out[inds] = data\n",
    "    tri_LJ_a03ws_prot[i] = out\n",
    "    \n",
    "#Save matrix    \n",
    "#np.save('a03ws_prot/contacts/LJ_a03ws_prot_matrix', tri_LJ_a03ws_prot) #commented out as file is very large\n",
    "\n",
    "#Account for weights\n",
    "tri_LJ_w_a03ws_prot = tri_LJ_a03ws_prot * np.reshape(w_a03ws_prot.copy(), ((len(w_a03ws_prot)), 1, 1)) \n",
    "\n",
    "#Triangulate the Coul for a03ws_prot alone for each frame:\n",
    "tri_Coul_a03ws_prot = np.empty((len(Coul_a03ws_prot), 61, 61))\n",
    "for i in range(0, len(Coul_a03ws_prot)):\n",
    "    data = Coul_a03ws_prot[i, 1:1892]\n",
    "    out = np.zeros((61, 61))\n",
    "    inds = np.triu_indices(len(out))\n",
    "    out[inds] = data\n",
    "    tri_Coul_a03ws_prot[i] = out\n",
    "\n",
    "#Save matrix    \n",
    "#np.save('a03ws_prot/contacts/Coul_a03ws_prot_matrix', tri_Coul_a03ws_prot) #commented out as file is very large\n",
    "\n",
    "#Account for weights\n",
    "tri_Coul_w_a03ws_prot = tri_Coul_a03ws_prot * np.reshape(w_a03ws_prot.copy(), ((len(w_a03ws_prot)), 1, 1)) "
   ]
  },
  {
   "cell_type": "code",
   "execution_count": 17,
   "id": "8a0f3435",
   "metadata": {
    "collapsed": true
   },
   "outputs": [],
   "source": [
    "#Make versions of of LJ_a03ws, LJ_a03ws_cs, Coul_a03ws, and Coul_a03ws_cs based on top frames\n",
    "LJ_a03ws_cut = LJ_a03ws[top_frames_a03ws][:, 1:232]\n",
    "Coul_a03ws_cut = Coul_a03ws[top_frames_a03ws][:, 1:232]\n",
    "\n",
    "LJ_a03ws_cs_cut = LJ_a03ws_cs[top_frames_a03ws_cs][:, 1:232]\n",
    "Coul_a03ws_cs_cut = Coul_a03ws_cs[top_frames_a03ws_cs][:, 1:232]"
   ]
  },
  {
   "cell_type": "code",
   "execution_count": 21,
   "id": "556b15cd",
   "metadata": {
    "collapsed": true
   },
   "outputs": [],
   "source": [
    "LJ_a03ws_prot_cut = LJ_a03ws_prot[top_frames_a03ws_prot][:, 1:1892]\n",
    "Coul_a03ws_prot_cut = Coul_a03ws_prot[top_frames_a03ws_prot][:, 1:1892]"
   ]
  },
  {
   "cell_type": "markdown",
   "id": "da3d9ac4",
   "metadata": {},
   "source": [
    "To convert these interaction energies into a contact map, interactions which were less than one standard deviation from the mean were assigned a value of -1, those within one standard deviation of the mean were assigned a value of 0, and those greater than one standard deviation of the mean were assigned a value of 1."
   ]
  },
  {
   "cell_type": "code",
   "execution_count": 18,
   "id": "99c35bed",
   "metadata": {
    "collapsed": true
   },
   "outputs": [],
   "source": [
    "#Convert LJ_a03ws_cut into 1, 0, -1\n",
    "mean = LJ_a03ws_cut.mean()\n",
    "std  = LJ_a03ws_cut.std()\n",
    "LJ_a03ws_cut_ones = np.zeros_like(LJ_a03ws_cut)\n",
    "LJ_a03ws_cut_ones[LJ_a03ws_cut > (mean + std)] = 1\n",
    "LJ_a03ws_cut_ones[LJ_a03ws_cut < (mean - std)] = -1\n",
    "\n",
    "#Triangulate array for LJ_a03ws:\n",
    "tri_LJ_a03ws_cut_ones = np.empty((len(LJ_a03ws_cut), 21, 21))\n",
    "for i in range(0, len(LJ_a03ws_cut_ones)):\n",
    "    data = LJ_a03ws_cut_ones[i]\n",
    "    out = np.zeros((21, 21))\n",
    "    inds = np.triu_indices(len(out))\n",
    "    out[inds] = data\n",
    "    tri_LJ_a03ws_cut_ones[i] = out\n",
    "            \n",
    "#Convert LJ_a03ws_cs_cut into 1, 0, -1\n",
    "mean = LJ_a03ws_cs_cut.mean()\n",
    "std  = LJ_a03ws_cs_cut.std()\n",
    "LJ_a03ws_cs_cut_ones = np.zeros_like(LJ_a03ws_cs_cut)\n",
    "LJ_a03ws_cs_cut_ones[LJ_a03ws_cs_cut > (mean + std)] = 1\n",
    "LJ_a03ws_cs_cut_ones[LJ_a03ws_cs_cut < (mean - std)] = -1\n",
    "            \n",
    "#Triangulate array for LJ_a03ws_cs:\n",
    "tri_LJ_a03ws_cs_cut_ones = np.empty((len(LJ_a03ws_cs_cut), 21, 21))\n",
    "for i in range(0, len(LJ_a03ws_cs_cut_ones)):\n",
    "    data = LJ_a03ws_cs_cut_ones[i]\n",
    "    out = np.zeros((21, 21))\n",
    "    inds = np.triu_indices(len(out))\n",
    "    out[inds] = data\n",
    "    tri_LJ_a03ws_cs_cut_ones[i] = out\n",
    "    \n",
    "#Convert Coul_a03ws_cut into 1, 0, -1\n",
    "mean = Coul_a03ws_cut.mean()\n",
    "std  = Coul_a03ws_cut.std()\n",
    "Coul_a03ws_cut_ones = np.zeros_like(Coul_a03ws_cut)\n",
    "Coul_a03ws_cut_ones[Coul_a03ws_cut > (mean + std)] = 1\n",
    "Coul_a03ws_cut_ones[Coul_a03ws_cut < (mean - std)] = -1\n",
    "            \n",
    "#Triangulate array for Coul_a03ws:\n",
    "tri_Coul_a03ws_cut_ones = np.empty((len(Coul_a03ws_cut), 21, 21))\n",
    "for i in range(0, len(Coul_a03ws_cut_ones)):\n",
    "    data = Coul_a03ws_cut_ones[i]\n",
    "    out = np.zeros((21, 21))\n",
    "    inds = np.triu_indices(len(out))\n",
    "    out[inds] = data\n",
    "    tri_Coul_a03ws_cut_ones[i] = out\n",
    "    \n",
    "#Convert Coul_a03ws_cs_cut into 1, 0, -1\n",
    "mean = Coul_a03ws_cs_cut.mean()\n",
    "std  = Coul_a03ws_cs_cut.std()\n",
    "Coul_a03ws_cs_cut_ones = np.zeros_like(Coul_a03ws_cs_cut)\n",
    "Coul_a03ws_cs_cut_ones[Coul_a03ws_cs_cut > (mean + std)] = 1\n",
    "Coul_a03ws_cs_cut_ones[Coul_a03ws_cs_cut < (mean - std)] = -1\n",
    "            \n",
    "#Triangulate array for Coul_a03ws_cs:\n",
    "tri_Coul_a03ws_cs_cut_ones = np.empty((len(Coul_a03ws_cs_cut), 21, 21))\n",
    "for i in range(0, len(Coul_a03ws_cs_cut_ones)):\n",
    "    data = Coul_a03ws_cs_cut_ones[i]\n",
    "    out = np.zeros((21, 21))\n",
    "    inds = np.triu_indices(len(out))\n",
    "    out[inds] = data\n",
    "    tri_Coul_a03ws_cs_cut_ones[i] = out\n",
    "    "
   ]
  },
  {
   "cell_type": "code",
   "execution_count": 23,
   "id": "9be8edfc",
   "metadata": {
    "collapsed": true
   },
   "outputs": [],
   "source": [
    "### PROTEIN \n",
    "\n",
    "#Convert LJ_a03ws_prot_cut into 1, 0, -1\n",
    "mean = LJ_a03ws_prot_cut.mean()\n",
    "std  = LJ_a03ws_prot_cut.std()\n",
    "LJ_a03ws_prot_cut_ones = np.zeros_like(LJ_a03ws_prot_cut)\n",
    "LJ_a03ws_prot_cut_ones[LJ_a03ws_prot_cut > (mean + std)] = 1\n",
    "LJ_a03ws_prot_cut_ones[LJ_a03ws_prot_cut < (mean - std)] = -1\n",
    "\n",
    "#Triangulate array for LJ_a03ws_prot:\n",
    "tri_LJ_a03ws_prot_cut_ones = np.empty((len(LJ_a03ws_prot_cut), 61, 61))\n",
    "for i in range(0, len(LJ_a03ws_prot_cut_ones)):\n",
    "    data = LJ_a03ws_prot_cut_ones[i]\n",
    "    out = np.zeros((61, 61))\n",
    "    inds = np.triu_indices(len(out))\n",
    "    out[inds] = data\n",
    "    tri_LJ_a03ws_prot_cut_ones[i] = out\n",
    "\n",
    "#Convert Coul_a03ws_prot_cut into 1, 0, -1\n",
    "mean = Coul_a03ws_prot_cut.mean()\n",
    "std  = Coul_a03ws_prot_cut.std()\n",
    "Coul_a03ws_prot_cut_ones = np.zeros_like(Coul_a03ws_prot_cut)\n",
    "Coul_a03ws_prot_cut_ones[Coul_a03ws_prot_cut > (mean + std)] = 1\n",
    "Coul_a03ws_prot_cut_ones[Coul_a03ws_prot_cut < (mean - std)] = -1\n",
    "            \n",
    "#Triangulate array for Coul_a03ws_prot:\n",
    "tri_Coul_a03ws_prot_cut_ones = np.empty((len(Coul_a03ws_prot_cut), 61, 61))\n",
    "for i in range(0, len(Coul_a03ws_prot_cut_ones)):\n",
    "    data = Coul_a03ws_prot_cut_ones[i]\n",
    "    out = np.zeros((61, 61))\n",
    "    inds = np.triu_indices(len(out))\n",
    "    out[inds] = data\n",
    "    tri_Coul_a03ws_prot_cut_ones[i] = out"
   ]
  },
  {
   "cell_type": "code",
   "execution_count": 1,
   "id": "d0c8cc4d",
   "metadata": {
    "collapsed": true
   },
   "outputs": [],
   "source": [
    "# 0 to 0.4 make all white\n",
    "# set cutoff to 0.2 to get more subtleties\n",
    "# grey is unfavourable - repulsion "
   ]
  },
  {
   "cell_type": "code",
   "execution_count": 19,
   "id": "057183f1",
   "metadata": {},
   "outputs": [
    {
     "data": {
      "image/png": "[encoded data removed]",
      "text/plain": [
       "<Figure size 640x480 with 2 Axes>"
      ]
     },
     "metadata": {},
     "output_type": "display_data"
    }
   ],
   "source": [
    "#Plot a03ws alone contacts based on LJ and Coul contacts\n",
    "#Note the residues in the plot are indexed from zero\n",
    "#The code below puts the Coul contacts into the bottom left half of the plot\n",
    "invert_a03ws = tri_Coul_a03ws_cut_ones.mean(axis=0)\n",
    "tri_Coul_a03ws_cut_ones_bottom = invert_a03ws.T\n",
    "\n",
    "#Combine both LJ and Coul into a single plot           \n",
    "combo_a03ws = tri_LJ_a03ws_cut_ones.mean(axis=0)+tri_Coul_a03ws_cut_ones_bottom\n",
    "np.fill_diagonal(combo_a03ws, -1)\n",
    "ax = sns.heatmap(combo_a03ws, vmin=-0.2, vmax=0.2, cmap=cmap_a03ws_con, center=0, cbar=True, square=True)\n",
    "\n",
    "ax.set_xticks(np.arange(0, 21, 5))\n",
    "ax.set_yticks(np.arange(0, 21, 5))\n",
    "ax.set_xticklabels((41, 46, 51, 56, 61), rotation='horizontal')\n",
    "ax.set_yticklabels((41, 46, 51, 56, 61))\n",
    "\n",
    "plt.subplots_adjust(bottom=0.15)\n",
    "\n",
    "# Add label to colorbar\n",
    "cbar = ax.collections[0].colorbar\n",
    "cbar.set_label('Interaction score', fontweight='bold')\n",
    "\n",
    "ax.set_xlabel(\"Residue number\", fontweight='bold')\n",
    "ax.set_ylabel(\"Residue number\", fontweight='bold');\n",
    "#plt.savefig('/home/alice/Data/orf6/MD/MD_figures/2023/contact_maps/a03ws.pdf', format='pdf', dpi=1000, transparent=True)"
   ]
  },
  {
   "cell_type": "code",
   "execution_count": 20,
   "id": "924c0cdc",
   "metadata": {},
   "outputs": [
    {
     "data": {
      "image/png": "[encoded data removed]",
      "text/plain": [
       "<Figure size 640x480 with 2 Axes>"
      ]
     },
     "metadata": {},
     "output_type": "display_data"
    }
   ],
   "source": [
    "#Plot a03ws_cs alone contacts based on LJ and Coul contacts\n",
    "#Note the residues in the plot are indexed from zero\n",
    "#The code below puts the Coul contacts into the bottom left half of the plot\n",
    "invert_a03ws_cs = tri_Coul_a03ws_cs_cut_ones.mean(axis=0)\n",
    "tri_Coul_a03ws_cs_cut_ones_bottom = invert_a03ws_cs.T\n",
    "\n",
    "#Combine both LJ and Coul into a single plot           \n",
    "combo_a03ws_cs = tri_LJ_a03ws_cs_cut_ones.mean(axis=0)+tri_Coul_a03ws_cs_cut_ones_bottom\n",
    "np.fill_diagonal(combo_a03ws_cs, -1)\n",
    "ax = sns.heatmap(combo_a03ws_cs, vmin=-0.2, vmax=0.2, cmap=cmap_a03ws_cs_con, center=0, cbar=True, square=True)\n",
    "\n",
    "ax.set_xticks(np.arange(0, 21, 5))\n",
    "ax.set_yticks(np.arange(0, 21, 5))\n",
    "ax.set_xticklabels((41, 46, 51, 56, 61), rotation='horizontal')\n",
    "ax.set_yticklabels((41, 46, 51, 56, 61))\n",
    "\n",
    "plt.subplots_adjust(bottom=0.15)\n",
    "\n",
    "# Add label to colorbar\n",
    "cbar = ax.collections[0].colorbar\n",
    "cbar.set_label('Interaction score', fontweight='bold')\n",
    "\n",
    "ax.set_xlabel(\"Residue number\", fontweight='bold')\n",
    "ax.set_ylabel(\"Residue number\", fontweight='bold');\n",
    "#plt.savefig('/home/alice/Data/orf6/MD/MD_figures/2023/contact_maps/a03ws_cs.pdf', format='pdf', dpi=1000, transparent=True)"
   ]
  },
  {
   "cell_type": "code",
   "execution_count": 76,
   "id": "4509dbf3",
   "metadata": {},
   "outputs": [
    {
     "data": {
      "image/png": "[encoded data removed]",
      "text/plain": [
       "<Figure size 640x480 with 2 Axes>"
      ]
     },
     "metadata": {},
     "output_type": "display_data"
    }
   ],
   "source": [
    "#Plot a03ws_prot alone contacts based on LJ and Coul contacts\n",
    "#Note the residues in the plot are indexed from zero\n",
    "#The code below puts the Coul contacts into the bottom left half of the plot\n",
    "invert_a03ws_prot = tri_Coul_a03ws_prot_cut_ones.mean(axis=0)\n",
    "tri_Coul_a03ws_prot_cut_ones_bottom = invert_a03ws_prot.T\n",
    "\n",
    "#Combine both LJ and Coul into a single plot           \n",
    "combo_a03ws_prot = tri_LJ_a03ws_prot_cut_ones.mean(axis=0)+tri_Coul_a03ws_prot_cut_ones_bottom\n",
    "np.fill_diagonal(combo_a03ws_prot, -1)\n",
    "ax = sns.heatmap(combo_a03ws_prot, vmin=-0.2, vmax=0.2, cmap=cmap_a03ws_prot_con, center=0, cbar=True, square=True)\n",
    "\n",
    "ax.set_xticks(np.arange(0, 61, 10))\n",
    "ax.set_yticks(np.arange(0, 61, 10))\n",
    "#ax.set_xticklabels((0, 5, 10, 15, 20, 25, 30, 35, 40, 45, 50, 55, 60), rotation='horizontal')\n",
    "#ax.set_yticklabels((0, 5, 10, 15, 20, 25, 30, 35, 40, 45, 50, 55, 60))\n",
    "ax.set_xticklabels((1, 10, 20, 30, 40, 50, 60), rotation='horizontal')\n",
    "ax.set_yticklabels((1, 10, 20, 30, 40, 50, 60))\n",
    "#ax.set_xlim(40,61)\n",
    "#ax.set_ylim(61,40)\n",
    "\n",
    "# Add label to colorbar\n",
    "cbar = ax.collections[0].colorbar\n",
    "cbar.set_label('Interaction score', fontweight='bold')\n",
    "\n",
    "\n",
    "plt.subplots_adjust(bottom=0.15)\n",
    "\n",
    "ax.set_xlabel(\"Residue number\", fontweight='bold')\n",
    "ax.set_ylabel(\"Residue number\", fontweight='bold');\n",
    "plt.savefig('/home/alice/Data/orf6/MD/MD_figures/2023/contact_maps/a03ws_prot.pdf', format='pdf', dpi=1000, transparent=True)"
   ]
  },
  {
   "cell_type": "markdown",
   "id": "4f5a041e",
   "metadata": {},
   "source": [
    "## Gromos clustering analysis \n"
   ]
  },
  {
   "cell_type": "markdown",
   "id": "dcc37d55",
   "metadata": {},
   "source": [
    "Using the LJ matrices from the top_frames obtained above, we can prepare input for GROMOS (4) clustering."
   ]
  },
  {
   "cell_type": "code",
   "execution_count": 51,
   "id": "2bdbdf2d",
   "metadata": {
    "collapsed": true
   },
   "outputs": [],
   "source": [
    "## Combined with and without CS restraints for a03ws clustering "
   ]
  },
  {
   "cell_type": "code",
   "execution_count": 151,
   "id": "47660272",
   "metadata": {
    "collapsed": true
   },
   "outputs": [],
   "source": [
    "#Concatenate subset of LJ frames for a03ws and a03ws with CS restraints \n",
    "LJall_a03ws_a03ws_cs_cut = np.concatenate((LJ_a03ws_cut, LJ_a03ws_cs_cut))\n",
    "\n",
    "#Pair each frame with its index using enumerate. Shuffle, and save indices/\n",
    "#To repeat this random shuffle yourself, uncomment out the relevant lines below. Note that results may vary.\n",
    "\n",
    "#l = LJall_a03ws_a03ws_cs_cut\n",
    "#x = list(enumerate(l))\n",
    "#np.random.shuffle(x)\n",
    "#indices, l=zip(*x)\n",
    "#np.save('a03ws/gromos_clustering/matrix/LJ_shuffled_a03ws_a03ws_cs', l) # saving in a03ws but for a03ws and a03ws_cs\n",
    "#np.save('a03ws/gromos_clustering/matrix/indices', indices) # saving in a03ws but for a03ws and a03ws_cs\n",
    "\n",
    "#Load indices \n",
    "indices = np.load('a03ws/gromos_clustering_LJ/matrix/indices.npy')\n",
    "LJ_shuffled_a03ws_a03ws_cs = np.load('a03ws/gromos_clustering_LJ/matrix/LJ_shuffled_a03ws_a03ws_cs.npy') #not included due to file size."
   ]
  },
  {
   "cell_type": "markdown",
   "id": "d19e37e0",
   "metadata": {},
   "source": [
    "Using the Coul matrices from the top_frames obtained above, we can prepare input for GROMOS (4) clustering."
   ]
  },
  {
   "cell_type": "code",
   "execution_count": 21,
   "id": "b23b24c2",
   "metadata": {
    "collapsed": true
   },
   "outputs": [],
   "source": [
    "#Concatenate subset of Coul frames for a03ws and a03ws with CS restraints \n",
    "Coulall_a03ws_a03ws_cs_cut = np.concatenate((Coul_a03ws_cut, Coul_a03ws_cs_cut))\n",
    "\n",
    "#Pair each frame with its index using enumerate. Shuffle, and save indices/\n",
    "#To repeat this random shuffle yourself, uncomment out the relevant lines below. Note that results may vary.\n",
    "\n",
    "l = Coulall_a03ws_a03ws_cs_cut\n",
    "x = list(enumerate(l))\n",
    "np.random.shuffle(x)\n",
    "indices, l=zip(*x)\n",
    "np.save('a03ws/gromos_clustering_Coul/matrix/Coul_shuffled_a03ws_a03ws_cs', l) # saving in a03ws but for a03ws and a03ws_cs\n",
    "np.save('a03ws/gromos_clustering_Coul/matrix/indices', indices) # saving in a03ws but for a03ws and a03ws_cs\n",
    "\n",
    "#Load indices \n",
    "indices = np.load('a03ws/gromos_clustering_Coul/matrix/indices.npy')\n",
    "Coul_shuffled_a03ws_a03ws_cs = np.load('a03ws/gromos_clustering_Coul/matrix/Coul_shuffled_a03ws_a03ws_cs.npy') #not included due to file size."
   ]
  },
  {
   "cell_type": "code",
   "execution_count": 23,
   "id": "c3294d0d",
   "metadata": {},
   "outputs": [
    {
     "data": {
      "text/plain": [
       "80000"
      ]
     },
     "execution_count": 23,
     "metadata": {},
     "output_type": "execute_result"
    }
   ],
   "source": [
    "len(Coulall_a03ws_a03ws_cs_cut)"
   ]
  },
  {
   "cell_type": "markdown",
   "id": "d3e8145e",
   "metadata": {},
   "source": [
    "The GROMOS clustering analysis is performed in two steps: matrix calculation and GROMOS clustering. Perform on HPC - i did on archer2"
   ]
  },
  {
   "cell_type": "markdown",
   "id": "9665a9cb",
   "metadata": {},
   "source": [
    "First, we calculate a matrix which containg the root-mean-square deviation (RMSD) between each frame and every other frame using /gromos_clustering/matrix/traj_con_mindist.py. The sample script /gromos_clustering/matrix/go.pbs illustrates how to run this script as an array job."
   ]
  },
  {
   "cell_type": "markdown",
   "id": "cbff985f",
   "metadata": {},
   "source": [
    "run on local desktop\n",
    "\n",
    "python traj_con_mindist.py LJ_shuffled_a03ws_a03ws_cs.npy RMSD (not sure if this is correct)\n",
    "\n",
    "gave this as number of frames --> \n",
    "# (num_frames-1)*(num_frames-2)/2\n",
    "# n entries in submission script \n",
    "(80000-1)*(80000-2)/2\n",
    "k0 = 0 first frame\n",
    "k1 = 3199880001.0\n",
    "\n",
    "started 5PM on the 23rd Feb finished at 3AM 24th Feb \n"
   ]
  },
  {
   "cell_type": "code",
   "execution_count": 1,
   "id": "f7ef7d7d",
   "metadata": {},
   "outputs": [
    {
     "data": {
      "text/plain": [
       "3199880001.0"
      ]
     },
     "execution_count": 1,
     "metadata": {},
     "output_type": "execute_result"
    }
   ],
   "source": [
    "(80000-1)*(80000-2)/2"
   ]
  },
  {
   "cell_type": "markdown",
   "id": "f389d7d2",
   "metadata": {},
   "source": [
    "Then, we perform the GROMOS clustering using the /gromos_clustering/gromos/gromos_clustering.cpp (executed with /gromos_clustering/gromos/CUT_7/go.pbs, with a cut-off value of 7 kJ/mol)\n",
    "\n",
    "too small cutoff - errors overlap - too small\n",
    "too big - all in same cluster \n",
    "going for somewhere in the middle based on gabi's observations \n",
    "\n",
    "input to terminal\n",
    "\n",
    "moving to home hardrive \n",
    "working in /home/alice\n",
    "\n",
    "../gromos_clustering.x ../../matrix/RMSD 1 3.0 80000 #1 input RMSD file, 3 cutoff, 80000 frames\n",
    "\n",
    "# trying 1,1.5,2,3,4,4.5,5\n",
    "\n",
    "../../../../../../../../../../home/alice/gromos_clustering_alice_test/gromos/gromos_clustering.x ../../matrix/RMSD 1 5.0 80000\n",
    "\n",
    "crashed on dekstop\n",
    "try on archer2 \n"
   ]
  },
  {
   "cell_type": "code",
   "execution_count": 6,
   "id": "90a97035",
   "metadata": {},
   "outputs": [
    {
     "data": {
      "text/plain": [
       "32.85125"
      ]
     },
     "execution_count": 6,
     "metadata": {},
     "output_type": "execute_result"
    }
   ],
   "source": [
    "(26281/80000)*100"
   ]
  },
  {
   "cell_type": "code",
   "execution_count": 9,
   "id": "1220f513",
   "metadata": {},
   "outputs": [
    {
     "data": {
      "text/plain": [
       "'/mnt/raid1/Alice/orf6/MD/analysis'"
      ]
     },
     "execution_count": 9,
     "metadata": {},
     "output_type": "execute_result"
    }
   ],
   "source": [
    "pwd"
   ]
  },
  {
   "cell_type": "code",
   "execution_count": 72,
   "id": "ae8b87e6",
   "metadata": {
    "collapsed": true
   },
   "outputs": [],
   "source": [
    "#Import list of clusters for trajectory \n",
    "traj = pd.read_csv('a03ws/gromos_clustering_LJ/gromos/CUT_2/trajectory.dat', delim_whitespace=True, header=None)\n",
    "traj = traj[1].values\n",
    "#n = 2815 #number of clusters in log.dat file (remember 0) 2.5 \n",
    "n = 15787 #2\n",
    "\n",
    "#First, get the values calculated over the entire analysed trajectories \n",
    "traj_sort_cut = traj[indices.argsort()]\n",
    "    "
   ]
  },
  {
   "cell_type": "code",
   "execution_count": 92,
   "id": "6868c991",
   "metadata": {},
   "outputs": [
    {
     "data": {
      "text/plain": [
       "array([[0.333   ],\n",
       "       [0.051025],\n",
       "       [0.0111  ],\n",
       "       [0.00315 ],\n",
       "       [0.004925],\n",
       "       [0.002825],\n",
       "       [0.005475],\n",
       "       [0.004425],\n",
       "       [0.003425],\n",
       "       [0.002825]])"
      ]
     },
     "execution_count": 92,
     "metadata": {},
     "output_type": "execute_result"
    }
   ],
   "source": [
    "cluster_pop_a03ws_cs_cut[0:10]"
   ]
  },
  {
   "cell_type": "code",
   "execution_count": 95,
   "id": "fde57011",
   "metadata": {},
   "outputs": [
    {
     "data": {
      "text/plain": [
       "array([1.])"
      ]
     },
     "execution_count": 95,
     "metadata": {},
     "output_type": "execute_result"
    }
   ],
   "source": [
    "sum(cluster_pop_a03ws_cs_cut)"
   ]
  },
  {
   "cell_type": "code",
   "execution_count": 94,
   "id": "f70dbe16",
   "metadata": {},
   "outputs": [
    {
     "data": {
      "text/plain": [
       "array([[0.324025],\n",
       "       [0.04625 ],\n",
       "       [0.0372  ],\n",
       "       [0.0182  ],\n",
       "       [0.009525],\n",
       "       [0.008575],\n",
       "       [0.004225],\n",
       "       [0.00475 ],\n",
       "       [0.005225],\n",
       "       [0.00555 ]])"
      ]
     },
     "execution_count": 94,
     "metadata": {},
     "output_type": "execute_result"
    }
   ],
   "source": [
    "cluster_pop_a03ws_cut[0:10]"
   ]
  },
  {
   "cell_type": "code",
   "execution_count": 138,
   "id": "c6cdcfa9",
   "metadata": {
    "collapsed": true
   },
   "outputs": [],
   "source": [
    "#Calculate populations and logs for a03ws alone\n",
    "cluster_pop_a03ws_cut = np.zeros((n, 1))\n",
    "np.add.at(cluster_pop_a03ws_cut, traj_sort_cut[:40000], 1/40000)\n",
    "\n",
    "\n",
    "#Calculate populations and logs for for a03ws_cs alone\n",
    "cluster_pop_a03ws_cs_cut = np.zeros((n, 1))\n",
    "np.add.at(cluster_pop_a03ws_cs_cut, traj_sort_cut[-40000:], 1/40000)\n"
   ]
  },
  {
   "cell_type": "code",
   "execution_count": 147,
   "id": "67119396",
   "metadata": {},
   "outputs": [
    {
     "ename": "NameError",
     "evalue": "name 'w_a03ws_0' is not defined",
     "output_type": "error",
     "traceback": [
      "\u001b[0;31m---------------------------------------------------------------------------\u001b[0m",
      "\u001b[0;31mNameError\u001b[0m                                 Traceback (most recent call last)",
      "Cell \u001b[0;32mIn [147], line 15\u001b[0m\n\u001b[1;32m     12\u001b[0m second \u001b[38;5;241m=\u001b[39m numbs[:, mid_a03ws:end_a03ws]\n\u001b[1;32m     14\u001b[0m \u001b[38;5;66;03m#Use this to determine effective weight of first and second halves of the trajectory\u001b[39;00m\n\u001b[0;32m---> 15\u001b[0m sum_w_a03ws_0 \u001b[38;5;241m=\u001b[39m \u001b[43mw_a03ws_0\u001b[49m\u001b[38;5;241m.\u001b[39msum()\n\u001b[1;32m     16\u001b[0m sum_w_a03ws_1 \u001b[38;5;241m=\u001b[39m w_a03ws_1\u001b[38;5;241m.\u001b[39msum()\n",
      "\u001b[0;31mNameError\u001b[0m: name 'w_a03ws_0' is not defined"
     ]
    }
   ],
   "source": [
    "#Get frames indices from first and second halves of the simulations\n",
    "\n",
    "n_reps = 128\n",
    "\n",
    "# Define 2 blocks - a03ws\n",
    "start_a03ws = 0\n",
    "end_a03ws = int(len(w_a03ws)/n_reps)\n",
    "mid_a03ws = int(start_a03ws + (end_a03ws-start_a03ws)/2)\n",
    "\n",
    "numbs  = np.reshape(np.arange(len(w_a03ws)), (n_reps, -1))\n",
    "first  = numbs[:, start_a03ws:mid_a03ws]\n",
    "second = numbs[:, mid_a03ws:end_a03ws]\n"
   ]
  },
  {
   "cell_type": "code",
   "execution_count": 141,
   "id": "96b18943",
   "metadata": {
    "collapsed": true
   },
   "outputs": [],
   "source": [
    "#Sort topframes into either first and second halves\n",
    "top_frames_a03ws_0 = [top_frames_a03ws.tolist().index(i) for i in top_frames_a03ws if i in first.flatten()]\n",
    "top_frames_a03ws_1 = [top_frames_a03ws.tolist().index(i) for i in top_frames_a03ws if i in second.flatten()]\n",
    "\n",
    "#Calculate cluster occupancies for first and second halves\n",
    "cluster_pop_a03ws_cut_0 = np.zeros((n, 1))\n",
    "np.add.at(cluster_pop_a03ws_cut_0, traj_sort_cut[top_frames_a03ws_0], 1/len(top_frames_a03ws_0))\n",
    "\n",
    "cluster_pop_a03ws_cut_1 = np.zeros((n, 1))\n",
    "np.add.at(cluster_pop_a03ws_cut_1, traj_sort_cut[top_frames_a03ws_1], 1/len(top_frames_a03ws_1))"
   ]
  },
  {
   "cell_type": "code",
   "execution_count": 145,
   "id": "8dfa30c7",
   "metadata": {},
   "outputs": [
    {
     "ename": "NameError",
     "evalue": "name 'sum_wa03ws_0' is not defined",
     "output_type": "error",
     "traceback": [
      "\u001b[0;31m---------------------------------------------------------------------------\u001b[0m",
      "\u001b[0;31mNameError\u001b[0m                                 Traceback (most recent call last)",
      "Cell \u001b[0;32mIn [145], line 12\u001b[0m\n\u001b[1;32m      9\u001b[0m a03ws_cs_err \u001b[38;5;241m=\u001b[39m np\u001b[38;5;241m.\u001b[39mzeros((n))  \n\u001b[1;32m     11\u001b[0m \u001b[38;5;28;01mfor\u001b[39;00m i \u001b[38;5;129;01min\u001b[39;00m \u001b[38;5;28mrange\u001b[39m(\u001b[38;5;241m0\u001b[39m, n):\n\u001b[0;32m---> 12\u001b[0m     a03ws_err[i] \u001b[38;5;241m=\u001b[39m weighted_avg_and_std([cluster_pop_a03ws_cut_0[i][\u001b[38;5;241m0\u001b[39m], cluster_pop_a03ws_cut_1[i][\u001b[38;5;241m0\u001b[39m]], [\u001b[43msum_wa03ws_0\u001b[49m, sum_wa03ws_1])[\u001b[38;5;241m1\u001b[39m]  \n\u001b[1;32m     13\u001b[0m     \u001b[38;5;66;03m#a03ws_cs_err[i] = weighted_avg_and_std([cluster_pop_a03ws_cs_cut_0[i][0], cluster_pop_a03ws_cs_cut_1[i][0]], [sum_wa03ws_cs_0, sum_wa03ws_cs_1])[1]\u001b[39;00m\n",
      "\u001b[0;31mNameError\u001b[0m: name 'sum_wa03ws_0' is not defined"
     ]
    }
   ],
   "source": [
    "#Repeat above for first and second halves of a03ws alone\n",
    "cluster_pop_a03ws_cut_0 = np.zeros((n, 1))\n",
    "np.add.at(cluster_pop_a03ws_cut_0, traj_sort_cut[top_frames_a03ws_0], 1/len(top_frames_a03ws_0))\n",
    "\n",
    "cluster_pop_a03ws_cut_1 = np.zeros((n, 1))\n",
    "np.add.at(cluster_pop_a03ws_cut_1, traj_sort_cut[top_frames_a03ws_1], 1/len(top_frames_a03ws_1))\n",
    "       \n",
    "a03ws_err = np.zeros((n))   \n",
    "a03ws_cs_err = np.zeros((n))  \n",
    "\n",
    "for i in range(0, n):\n",
    "    a03ws_err[i] = weighted_avg_and_std([cluster_pop_a03ws_cut_0[i][0], cluster_pop_a03ws_cut_1[i][0]], [sum_wa03ws_0, sum_wa03ws_1])[1]  \n",
    "    #a03ws_cs_err[i] = weighted_avg_and_std([cluster_pop_a03ws_cs_cut_0[i][0], cluster_pop_a03ws_cs_cut_1[i][0]], [sum_wa03ws_cs_0, sum_wa03ws_cs_1])[1]"
   ]
  },
  {
   "cell_type": "code",
   "execution_count": null,
   "id": "825c988f",
   "metadata": {
    "collapsed": true
   },
   "outputs": [],
   "source": []
  },
  {
   "cell_type": "code",
   "execution_count": 125,
   "id": "5499dd20",
   "metadata": {},
   "outputs": [
    {
     "data": {
      "text/plain": [
       "Text(0.5, 0, 'Cluster ID')"
      ]
     },
     "execution_count": 125,
     "metadata": {},
     "output_type": "execute_result"
    },
    {
     "data": {
      "image/png": "[encoded data removed]",
      "text/plain": [
       "<Figure size 640x480 with 1 Axes>"
      ]
     },
     "metadata": {},
     "output_type": "display_data"
    }
   ],
   "source": [
    "#To demonstrate convergence, plot the populationsof top five clusters for a03ws alone and a03ws + 10074-a03ws_cs with error bars from first and second halves of the simulations\n",
    "#Select top five clusters for a03ws alone and a03ws + 10074-a03ws_cs\n",
    "clus= [0, 1, 2, 3, 4, 8, 14, 15, 19]\n",
    "\n",
    "#Plot clusters with populations and errors\n",
    "fig = plt.figure()\n",
    "ax = plt.subplot(111)\n",
    "x=np.arange(0, 9, 1)\n",
    "ax.bar(x-0.15, cluster_pop_a03ws_cut[clus].flatten(), yerr=np.asarray(a03ws_err)[clus], ecolor=e_a03ws, color=c_a03ws, alpha=0.5, align='center', width=0.25, error_kw=dict(lw=1, capsize=2, capthick=1))\n",
    "ax.bar(x+0.15, cluster_pop_a03ws_cs_cut[clus].flatten(), yerr=np.asarray(a03ws_cs_err)[clus], ecolor=e_a03ws_cs, color=d_a03ws, alpha=0.5, align='center', width=0.25, error_kw=dict(lw=1, capsize=2, capthick=1))\n",
    "ax.yaxis.set_major_formatter(FormatStrFormatter('%.2f'))\n",
    "ax.spines['right'].set_visible(False)\n",
    "ax.spines['top'].set_visible(False)\n",
    "ax.set_xticks(np.arange(0, 9, 1), clus)\n",
    "ax.set_ylabel(\"Population\")\n",
    "ax.set_xlabel(\"Cluster ID\")\n",
    "#plt.savefig('barpops.pdf', format='pdf', dpi=1000, transparent=True)"
   ]
  },
  {
   "cell_type": "code",
   "execution_count": null,
   "id": "e015f462",
   "metadata": {
    "collapsed": true
   },
   "outputs": [],
   "source": []
  },
  {
   "cell_type": "code",
   "execution_count": null,
   "id": "17f6652e",
   "metadata": {
    "collapsed": true
   },
   "outputs": [],
   "source": []
  },
  {
   "cell_type": "code",
   "execution_count": null,
   "id": "cf8e22ae",
   "metadata": {
    "collapsed": true
   },
   "outputs": [],
   "source": []
  },
  {
   "cell_type": "code",
   "execution_count": 74,
   "id": "67cd0a18",
   "metadata": {},
   "outputs": [
    {
     "data": {
      "text/plain": [
       "(15787, 1)"
      ]
     },
     "execution_count": 74,
     "metadata": {},
     "output_type": "execute_result"
    }
   ],
   "source": [
    "np.shape(cluster_pop_a03ws_cut)"
   ]
  },
  {
   "cell_type": "code",
   "execution_count": 110,
   "id": "232f1c1f",
   "metadata": {},
   "outputs": [
    {
     "data": {
      "text/plain": [
       "array([ 442, 1891,  442, ..., 3680,    0,    0])"
      ]
     },
     "execution_count": 110,
     "metadata": {},
     "output_type": "execute_result"
    }
   ],
   "source": [
    "traj_sort_cut[:40000]\n"
   ]
  },
  {
   "cell_type": "code",
   "execution_count": 111,
   "id": "ee02a424",
   "metadata": {},
   "outputs": [
    {
     "data": {
      "text/plain": [
       "0.04625"
      ]
     },
     "execution_count": 111,
     "metadata": {},
     "output_type": "execute_result"
    }
   ],
   "source": [
    "# how to reality check \n",
    "\n",
    "np.where(traj_sort_cut[:40000]==1)[0].shape[0]/40000"
   ]
  },
  {
   "cell_type": "code",
   "execution_count": 75,
   "id": "f02e4c66",
   "metadata": {},
   "outputs": [
    {
     "data": {
      "text/plain": [
       "(15787, 1)"
      ]
     },
     "execution_count": 75,
     "metadata": {},
     "output_type": "execute_result"
    }
   ],
   "source": [
    "np.shape(cluster_pop_a03ws_cs_cut)"
   ]
  },
  {
   "cell_type": "code",
   "execution_count": 76,
   "id": "eacc92d7",
   "metadata": {},
   "outputs": [
    {
     "data": {
      "text/plain": [
       "<matplotlib.patches.Circle at 0x7f8a0d937f70>"
      ]
     },
     "execution_count": 76,
     "metadata": {},
     "output_type": "execute_result"
    },
    {
     "data": {
      "image/png": "[encoded data removed]",
      "text/plain": [
       "<Figure size 400x400 with 1 Axes>"
      ]
     },
     "metadata": {},
     "output_type": "display_data"
    }
   ],
   "source": [
    "#To visualise the number of clusters and corresponding populations, make a \"ring plot\" for a03ws alone\n",
    "#Execute twice to get size correct\n",
    "\n",
    "#Create a circle for the center of the plot\n",
    "my_circle=plt.Circle( (0, 0), 0.7, color='white')\n",
    "a03ws_pops = cluster_pop_a03ws_cut.flatten()\n",
    "size=np.sort(a03ws_pops)[::-1]\n",
    "\n",
    "#Start first color as silver for shared cluster (Cluster ID:0)\n",
    "color_list = ['silver']\n",
    "\n",
    "#Then add more colors making them gradually get lighter\n",
    "for i in range(0, len(size)):\n",
    "    color_list.append(cmap_a03ws_circ(i/(80)))\n",
    "\n",
    "#Plot\n",
    "fig = plt.figure(figsize=(4, 4))\n",
    "ax = fig.add_subplot(111)\n",
    "ax.pie(size, colors=color_list, wedgeprops = { 'linewidth' : 1, 'edgecolor' : 'white' })\n",
    "ax.add_artist(my_circle)\n",
    "#ax.set_title(\"a03ws\");\n",
    "\n",
    "#plt.show()\n",
    "#plt.savefig('/home/alice/Data/orf6/MD/MD_figures/2023/clustering/a03ws_cut2.5.pdf', format='pdf', dpi=1000, transparent=True)"
   ]
  },
  {
   "cell_type": "code",
   "execution_count": 77,
   "id": "3f2896b1",
   "metadata": {},
   "outputs": [
    {
     "data": {
      "text/plain": [
       "0.018200000000000265"
      ]
     },
     "execution_count": 77,
     "metadata": {},
     "output_type": "execute_result"
    }
   ],
   "source": [
    "a03ws_pops[3]"
   ]
  },
  {
   "cell_type": "code",
   "execution_count": 78,
   "id": "8e897635",
   "metadata": {},
   "outputs": [
    {
     "data": {
      "text/plain": [
       "<matplotlib.patches.Circle at 0x7f89fd09e130>"
      ]
     },
     "execution_count": 78,
     "metadata": {},
     "output_type": "execute_result"
    },
    {
     "data": {
      "image/png": "[encoded data removed]",
      "text/plain": [
       "<Figure size 400x400 with 1 Axes>"
      ]
     },
     "metadata": {},
     "output_type": "display_data"
    }
   ],
   "source": [
    "#To visualise the number of clusters and corresponding populations, make a \"ring plot\" for a03ws_cs\n",
    "#Execute twice to get size correct\n",
    "\n",
    "#Create a circle for the center of the plot\n",
    "my_circle=plt.Circle( (0, 0), 0.7, color='white')\n",
    "a03ws_cs_pops = cluster_pop_a03ws_cs_cut.flatten()\n",
    "size=np.sort(a03ws_cs_pops)[::-1]\n",
    "\n",
    "#Start first color as silver for shared cluster (Cluster ID:0)\n",
    "color_list = ['silver']\n",
    "\n",
    "#Then add more colors making them gradually get lighter\n",
    "for i in range(0, len(size)):\n",
    "    color_list.append(cmap_a03ws_cs_circ(i/(80)))\n",
    "    \n",
    "#Plot\n",
    "fig = plt.figure(figsize=(4, 4))\n",
    "ax = fig.add_subplot(111)\n",
    "ax.pie(size, colors=color_list, wedgeprops = { 'linewidth' : 1, 'edgecolor' : 'white' })\n",
    "ax.add_artist(my_circle)\n",
    "#ax.set_title(\"a03ws with CS restraints\");\n",
    "\n",
    "#plt.savefig('/home/alice/Data/orf6/MD/MD_figures/2023/clustering/a03ws_cs_cut2.5.pdf', format='pdf', dpi=1000, transparent=True)"
   ]
  },
  {
   "cell_type": "code",
   "execution_count": 38,
   "id": "9d9f2b50",
   "metadata": {},
   "outputs": [
    {
     "data": {
      "text/plain": [
       "array([0.04625])"
      ]
     },
     "execution_count": 38,
     "metadata": {},
     "output_type": "execute_result"
    }
   ],
   "source": [
    "# indexing to see if clusters are the same \n",
    "\n",
    "cluster_pop_a03ws_cut[1]"
   ]
  },
  {
   "cell_type": "code",
   "execution_count": null,
   "id": "4e211104",
   "metadata": {
    "collapsed": true
   },
   "outputs": [],
   "source": [
    "cluster_pop_a03ws_cut[1]"
   ]
  },
  {
   "cell_type": "markdown",
   "id": "ee9fc257",
   "metadata": {},
   "source": [
    "Now, we want to generate representative PDB files for the top five clusters in each simulation. To do this, we will select conformations in a weighted way, based on their proximity to the cluster center. Trajectories containing only 'topframes' were generated using slice in mdtraj. Note the periodic boundary conditions have been corrected in these trajectories. Conformations were aligned using MatchMaker in Chimera. Residue groups (hydrophobic, hydrophilic, charged, and polar) were selected using defaults in Chimera."
   ]
  },
  {
   "cell_type": "code",
   "execution_count": 25,
   "id": "ae94e3ff",
   "metadata": {
    "collapsed": true
   },
   "outputs": [],
   "source": [
    "t_a03ws = md.load('a03ws/traj_all-skip-2-noW-whole.trr', top='a03ws/frame0.pdb')\n",
    "t_a03ws_cs = md.load('a03ws_cs/traj_all-skip-4-noW-whole.trr', top='a03ws_cs/frame0.pdb')"
   ]
  },
  {
   "cell_type": "code",
   "execution_count": 26,
   "id": "861b13d6",
   "metadata": {
    "collapsed": true
   },
   "outputs": [],
   "source": [
    "## need to save top frames\n",
    "\n",
    "#topframes_a03ws = t_a03ws.slice((top_frames_a03ws))\n",
    "\n",
    "#t_a03ws[top_frames_a03ws].save('topframes_a03ws.trr')"
   ]
  },
  {
   "cell_type": "code",
   "execution_count": 27,
   "id": "3f4c6175",
   "metadata": {
    "collapsed": true
   },
   "outputs": [],
   "source": [
    "## need to save top frames\n",
    "\n",
    "topframes_a03ws_cs = t_a03ws_cs.slice((top_frames_a03ws_cs))\n",
    "\n",
    "t_a03ws_cs[top_frames_a03ws_cs].save('topframes_a03ws_cs.trr')"
   ]
  },
  {
   "cell_type": "code",
   "execution_count": 28,
   "id": "a6e2f1de",
   "metadata": {},
   "outputs": [
    {
     "data": {
      "text/plain": [
       "'/mnt/raid1/Alice/orf6/MD/analysis'"
      ]
     },
     "execution_count": 28,
     "metadata": {},
     "output_type": "execute_result"
    }
   ],
   "source": [
    "pwd"
   ]
  },
  {
   "cell_type": "code",
   "execution_count": 152,
   "id": "1ffcdc83",
   "metadata": {
    "collapsed": true
   },
   "outputs": [],
   "source": [
    "#Load in trajectories of top frames with corrected periodic boundary conditions\n",
    "top = md.load('a03ws/topframes_a03ws.trr', top='a03ws/frame0.pdb')\n",
    "\n",
    "#Break up traj (with cluster IDs from above) into AB and G5\n",
    "sort_clus_a03ws = traj_sort_cut[:40000] \n",
    "sort_clus_a03ws_cs = traj_sort_cut[40000:]\n",
    "\n",
    "#Load in cluster centers, then assign each frame to 1 cluster\n",
    "log = pd.read_csv('a03ws/gromos_clustering_LJ/gromos/CUT_2/log.dat', delim_whitespace=True, header=None)\n",
    "log_centers = log[5].values   #get list of cluster ID's in shuffled order\n",
    "\n",
    "#Get true cluster centers\n",
    "clus_center_sort_cut = indices.argsort()[log_centers]\n",
    "\n",
    "#Get LJ contact maps for cluster centers\n",
    "clus_center_LJ = LJall_a03ws_a03ws_cs_cut[clus_center_sort_cut] "
   ]
  },
  {
   "cell_type": "code",
   "execution_count": 165,
   "id": "387bb3d8",
   "metadata": {
    "collapsed": true
   },
   "outputs": [],
   "source": [
    "#FOR a03ws alone\n",
    "#Set cluster id\n",
    "c=9 # The ones used in the manuscript are IDs = [0, 1, 2, 3, 4]\n",
    "\n",
    "#Calculate root-mean-square deviation (RMSD) between each frame and cluster center\n",
    "rmsd_list = np.sqrt(((LJ_a03ws_cut - clus_center_LJ[c]) ** 2).mean(axis=1))\n",
    "    \n",
    "#Generate weights based on RMSD. The smaller the RMSD, the more likely the frame will included.     \n",
    "rmsd_weights = np.zeros_like(rmsd_list)\n",
    "for i in range(0, len(rmsd_list)):\n",
    "    if sort_clus_a03ws[i] == c:\n",
    "        if rmsd_list[i]==0:\n",
    "            weight = 10000000 #set this weight very high as we want to be sure that the cluster center is included\n",
    "        else:\n",
    "            weight = 1/rmsd_list[i]\n",
    "    else:\n",
    "        weight = 0\n",
    "    rmsd_weights[i] = weight\n",
    "\n",
    "rmsd_weights /= rmsd_weights.sum()\n",
    "\n",
    "#Pick structures randomly based on weights\n",
    "structs = np.random.choice(range(0, 40000), 10, p = rmsd_weights, replace=False)\n",
    "\n",
    "clus_a03ws = top.slice(structs)\n",
    "clus_a03ws.save_pdb('a03ws/gromos_clustering_LJ/gromos/CUT_2/pdb_files/cluster_{0}_a03ws.pdb'.format(c))"
   ]
  },
  {
   "cell_type": "code",
   "execution_count": 168,
   "id": "9560c5cc",
   "metadata": {
    "collapsed": true
   },
   "outputs": [],
   "source": [
    "#Load in trajectories of top frames with corrected periodic boundary conditions\n",
    "top = md.load('a03ws_cs/topframes_a03ws_cs.trr', top='a03ws_cs/frame0.pdb')\n",
    "\n",
    "#Break up traj (with cluster IDs from above) into AB and G5\n",
    "sort_clus_a03ws_cs = traj_sort_cut[:40000] \n",
    "sort_clus_a03ws_cs_cs = traj_sort_cut[40000:]\n",
    "\n",
    "#Load in cluster centers, then assign each frame to 1 cluster\n",
    "log = pd.read_csv('a03ws/gromos_clustering_LJ/gromos/CUT_2/log.dat', delim_whitespace=True, header=None)\n",
    "log_centers = log[5].values   #get list of cluster ID's in shuffled order\n",
    "\n",
    "#Get true cluster centers\n",
    "clus_center_sort_cut = indices.argsort()[log_centers]\n",
    "\n",
    "#Get LJ contact maps for cluster centers\n",
    "clus_center_LJ = LJall_a03ws_a03ws_cs_cut[clus_center_sort_cut] "
   ]
  },
  {
   "cell_type": "code",
   "execution_count": 180,
   "id": "b0d62aae",
   "metadata": {
    "collapsed": true
   },
   "outputs": [],
   "source": [
    "#FOR a03ws_cs alone\n",
    "#Set cluster id\n",
    "c=9 # The ones used in the manuscript are IDs = [0, 1, 2, 3, 4]\n",
    "\n",
    "#Calculate root-mean-square deviation (RMSD) between each frame and cluster center\n",
    "rmsd_list = np.sqrt(((LJ_a03ws_cs_cut - clus_center_LJ[c]) ** 2).mean(axis=1))\n",
    "    \n",
    "#Generate weights based on RMSD. The smaller the RMSD, the more likely the frame will included.     \n",
    "rmsd_weights = np.zeros_like(rmsd_list)\n",
    "for i in range(0, len(rmsd_list)):\n",
    "    if sort_clus_a03ws_cs[i] == c:\n",
    "        if rmsd_list[i]==0:\n",
    "            weight = 10000000 #set this weight very high as we want to be sure that the cluster center is included\n",
    "        else:\n",
    "            weight = 1/rmsd_list[i]\n",
    "    else:\n",
    "        weight = 0\n",
    "    rmsd_weights[i] = weight\n",
    "\n",
    "rmsd_weights /= rmsd_weights.sum()\n",
    "\n",
    "#Pick structures randomly based on weights\n",
    "structs = np.random.choice(range(0, 40000), 10, p = rmsd_weights, replace=False)\n",
    "\n",
    "clus_a03ws_cs = top.slice(structs)\n",
    "clus_a03ws_cs.save_pdb('a03ws/gromos_clustering_LJ/gromos/CUT_2/pdb_files/cluster_{0}_a03ws_cs.pdb'.format(c))"
   ]
  },
  {
   "cell_type": "code",
   "execution_count": null,
   "id": "568c8039",
   "metadata": {
    "collapsed": true
   },
   "outputs": [],
   "source": []
  },
  {
   "cell_type": "code",
   "execution_count": null,
   "id": "c9b21b86",
   "metadata": {
    "collapsed": true
   },
   "outputs": [],
   "source": []
  },
  {
   "cell_type": "code",
   "execution_count": null,
   "id": "5e7fc02f",
   "metadata": {
    "collapsed": true
   },
   "outputs": [],
   "source": []
  },
  {
   "cell_type": "code",
   "execution_count": null,
   "id": "cad319b5",
   "metadata": {
    "collapsed": true
   },
   "outputs": [],
   "source": []
  },
  {
   "cell_type": "code",
   "execution_count": null,
   "id": "ed6a3276",
   "metadata": {
    "collapsed": true
   },
   "outputs": [],
   "source": [
    "## Make contact maps for each cluster "
   ]
  },
  {
   "cell_type": "code",
   "execution_count": null,
   "id": "b5d42966",
   "metadata": {
    "collapsed": true
   },
   "outputs": [],
   "source": []
  },
  {
   "cell_type": "code",
   "execution_count": null,
   "id": "b66d337d",
   "metadata": {
    "collapsed": true
   },
   "outputs": [],
   "source": []
  },
  {
   "cell_type": "code",
   "execution_count": null,
   "id": "3279498a",
   "metadata": {
    "collapsed": true
   },
   "outputs": [],
   "source": []
  }
 ],
 "metadata": {
  "kernelspec": {
   "display_name": "Python 3 (ipykernel)",
   "language": "python",
   "name": "python3"
  },
  "language_info": {
   "codemirror_mode": {
    "name": "ipython",
    "version": 3
   },
   "file_extension": ".py",
   "mimetype": "text/x-python",
   "name": "python",
   "nbconvert_exporter": "python",
   "pygments_lexer": "ipython3",
   "version": "3.7.12"
  }
 },
 "nbformat": 4,
 "nbformat_minor": 5
}
