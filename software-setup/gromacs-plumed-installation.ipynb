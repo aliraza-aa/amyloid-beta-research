{
 "cells": [
  {
   "cell_type": "markdown",
   "metadata": {},
   "source": [
    "# Installing Gromacs version 2022-5 and patching it with Plumed version 2.9.0"
   ]
  },
  {
   "cell_type": "markdown",
   "metadata": {},
   "source": [
    "adapt jobscript from https://github.com/UCL-RITS/rcps-buildscripts/blob/master/plumed-2.7.2_install and save as plumed-2.9.0_install\n",
    "\n",
    "send plumed-2.9.0_install to Kathleen"
   ]
  },
  {
   "cell_type": "markdown",
   "metadata": {},
   "source": [
    "module load beta-modules\n",
    "module unload -f compilers mpi gcc-libs\n",
    "module load gcc-libs/10.2.0\n",
    "module load git/2.32.0\n",
    "module load compilers/gnu/10.2.0\n",
    "module load mpi/openmpi/4.0.5/gnu-10.2.0\n",
    "module load openblas/0.3.13-serial/gnu-10.2.0\n",
    "module load flex\n",
    "module load libmatheval\n",
    "\n",
    "\n",
    "export LD_LIBRARY_PATH=/home/zcbtar9/software/plumed/2.9.0/gnu-10.2.0/openblas/lib:$LD_LIBRARY_PATH\n",
    "export PATH=/home/zcbtar9/software/plumed/2.9.0/gnu-10.2.0/openblas/bin:$PATH"
   ]
  },
  {
   "cell_type": "markdown",
   "metadata": {},
   "source": []
  },
  {
   "cell_type": "code",
   "execution_count": 7,
   "metadata": {},
   "outputs": [
    {
     "ename": "ModuleNotFoundError",
     "evalue": "No module named 'MDAnalysis'",
     "output_type": "error",
     "traceback": [
      "\u001b[1;31m---------------------------------------------------------------------------\u001b[0m",
      "\u001b[1;31mModuleNotFoundError\u001b[0m                       Traceback (most recent call last)",
      "Cell \u001b[1;32mIn[7], line 4\u001b[0m\n\u001b[0;32m      2\u001b[0m \u001b[39mimport\u001b[39;00m \u001b[39mmatplotlib\u001b[39;00m\u001b[39m.\u001b[39;00m\u001b[39mpyplot\u001b[39;00m \u001b[39mas\u001b[39;00m \u001b[39mplt\u001b[39;00m\n\u001b[0;32m      3\u001b[0m \u001b[39mimport\u001b[39;00m \u001b[39mos\u001b[39;00m\n\u001b[1;32m----> 4\u001b[0m \u001b[39mimport\u001b[39;00m \u001b[39mMDAnalysis\u001b[39;00m\n\u001b[0;32m      5\u001b[0m \u001b[39mimport\u001b[39;00m \u001b[39mmdtraj\u001b[39;00m \u001b[39mas\u001b[39;00m \u001b[39mmd\u001b[39;00m \n\u001b[0;32m      6\u001b[0m \u001b[39mimport\u001b[39;00m \u001b[39mnumpy\u001b[39;00m \u001b[39mas\u001b[39;00m \u001b[39mnp\u001b[39;00m\n",
      "\u001b[1;31mModuleNotFoundError\u001b[0m: No module named 'MDAnalysis'"
     ]
    }
   ],
   "source": [
    "# import plumed\n",
    "import matplotlib.pyplot as plt\n",
    "import os\n",
    "import MDAnalysis\n",
    "import mdtraj as md \n",
    "import numpy as np\n",
    "import math\n",
    "import pandas as pd"
   ]
  },
  {
   "cell_type": "code",
   "execution_count": 4,
   "metadata": {},
   "outputs": [
    {
     "name": "stdout",
     "output_type": "stream",
     "text": [
      "/mnt/c/Users/dell/Projects/amyloid-beta-research\n"
     ]
    }
   ],
   "source": [
    "%%bash\n",
    "pwd"
   ]
  },
  {
   "cell_type": "code",
   "execution_count": null,
   "metadata": {},
   "outputs": [],
   "source": []
  }
 ],
 "metadata": {
  "kernelspec": {
   "display_name": "Python 3",
   "language": "python",
   "name": "python3"
  },
  "language_info": {
   "codemirror_mode": {
    "name": "ipython",
    "version": 3
   },
   "file_extension": ".py",
   "mimetype": "text/x-python",
   "name": "python",
   "nbconvert_exporter": "python",
   "pygments_lexer": "ipython3",
   "version": "3.11.4"
  },
  "orig_nbformat": 4
 },
 "nbformat": 4,
 "nbformat_minor": 2
}
