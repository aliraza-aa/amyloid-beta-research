{
 "cells": [
  {
   "cell_type": "markdown",
   "id": "c5a35147",
   "metadata": {},
   "source": [
    "## Workup a03ws and c36m peptide sims with and without restraints \n",
    "\n",
    "Date: 4th November 2022 "
   ]
  },
  {
   "cell_type": "code",
   "execution_count": null,
   "id": "de865843",
   "metadata": {
    "collapsed": true
   },
   "outputs": [],
   "source": [
    "# Taken from Gabi's script \n",
    "\n",
    "## concatenate across all the full replica trajectories in order \n",
    "\n",
    "mkdir workup to work in \n",
    "\n",
    "# name each trajectory with replica number - only need this after time \n",
    "for i in {0..127}; do gmx_mpi trjcat -f ../r${i}/traj*.trr -nosort -cat -keeplast -o traj${i}_all_tmp.trr; done\n",
    "for i in {0..47}; do gmx_mpi trjcat -f ../replica${i}/production_run*.trr -nosort -cat -keeplast -o traj${i}_all_tmp.trr; done\n",
    "\n",
    "# writing index of atoms other than ions to concatentate trajectories as number of ions different in different replica simulations\n",
    "for i in {0..47}; do echo -e '!15\\nq' | gmx_mpi make_ndx -f ../replica${i}/production_run_input.tpr -o index${i}.ndx; done\n",
    "for i in {1..47}; do echo 17 | gmx_mpi trjconv -f traj${i}_all_tmp.trr -o traj${i}_all_no_ions.trr -n index${i}.ndx; done\n",
    "for i in {0..47}; do echo 1 | gmx_mpi trjconv -f traj${i}_all_tmp.trr -s ../replica${i}/production_run_input.tpr -o traj${i}_all_no_ions_water.trr; done\n",
    "\n",
    "\n",
    "# join all trajectories together \n",
    "gmx_mpi trjcat -f traj?_all_tmp.trr traj??_all_tmp.trr traj???_all_tmp.trr -nosort -cat -keeplast -o traj_all.trr\n",
    "gmx_mpi trjcat -f traj?_all_no_ions_water.trr traj??_all_no_ions_water.trr -nosort -cat -keeplast -o traj_all.trr\n",
    "\n",
    "# fix timestep \n",
    "# why is this needed?\n",
    "echo 0 | gmx_mpi trjconv -f traj_all.trr -t0 0 -timestep 1 -s ../r0/7-npt.tpr -o traj_all-skip-0.trr\n",
    "\n",
    "# remove water \n",
    "echo 1 | gmx_mpi trjconv -f traj_all.trr  -t0 0 -timestep 1 -s ../r0/7-npt.tpr -o traj_all-skip-0-noW.trr\n",
    "#timestep should be 200ps\n",
    "echo 1 | gmx_mpi trjconv -f traj_all.trr  -t0 0 -timestep 1 -s ../replica0/production_run_input.tpr -o traj_all-skip-0-noW.trr\n",
    "\n",
    "# remove individual trajectories \n",
    "for i in {0..127}; do rm -rf traj${i}_all_tmp.trr; done\n",
    "for i in {0..47}; do rm -rf traj${i}_all_tmp.trr; done\n",
    "# remove files that are not needed \n",
    "rm -rf traj_all.trr\n",
    "\n",
    "#check number of frames so i know what mindist and weights should be \n",
    "\n",
    "gmx_mpi check -f traj_all-skip-0-noW.trr\n",
    "\n",
    "#these are alice's notes\n",
    "a03ws with cs = 518144 \n",
    "a03ws without cs = 289024\n",
    "c36m with cs = 534144\n",
    "c36m without cs = 277120 \n"
   ]
  },
  {
   "cell_type": "code",
   "execution_count": null,
   "id": "fcb7d61f",
   "metadata": {
    "collapsed": true
   },
   "outputs": [],
   "source": [
    "## make whole\n",
    "# what does this mean?\n",
    "\n",
    "gmx_mpi trjconv -f traj_all-skip-0-noW.trr -s ../r0/7-npt.tpr -o confout.gro -b 0 -e 0 -pbc mol -center -ur compact\n",
    "gmx_mpi trjconv -f traj_all-skip-0_200ps-noW.trr -s ../replica0/production_run_input.tpr -o confout.gro -b 0 -e 0 -pbc mol -center -ur compact\n",
    "\n",
    "gmx_mpi trjconv -f traj_all-skip-0-noW.trr -s ../r0/7-npt.tpr -o traj_all-skip-0-noW-whole.trr -pbc mol -center -ur compact\n",
    "gmx_mpi trjconv -f traj_all-skip-0_200ps-noW.trr -s ../replica0/production_run_input.tpr -o traj_all-skip-0-noW-whole-200ps.trr -pbc mol -center -ur compact\n",
    "gmx_mpi trjconv -f traj_all-skip-0-noW.trr -s ../replica0/production_run_input.tpr -o traj_all-skip-0-noW-whole.trr -pbc mol -center -ur compact"
   ]
  },
  {
   "cell_type": "code",
   "execution_count": null,
   "id": "e4706772",
   "metadata": {
    "collapsed": true
   },
   "outputs": [],
   "source": [
    "# find out self-interacting conformations as we don't want to include them\n",
    "\n",
    "echo 1 | gmx_mpi mindist -f traj_all-skip-0-noW-whole-200ps.trr -s ../replica0/production_run_input.tpr -pi\n",
    "\n",
    "tail -n +30 mindist.xvg | awk '{print $2}' > mindist_all.dat; rm -rf mindist.xvg\n",
    "\n",
    "\n",
    "The shortest periodic distance is 0.144525 (nm) at time 8.6222e+06 (ps),\n",
    "between atoms 36 and 435\n",
    "\n",
    "a03ws with cs = The shortest periodic distance is 0.14305 (nm) at time 113603 (ps),\n",
    "between atoms 15 and 339\n",
    "\n",
    "a03ws without cs = The shortest periodic distance is 0.146889 (nm) at time 47842 (ps),\n",
    "between atoms 15 and 339\n",
    "\n",
    "c36m with cs = The shortest periodic distance is 0.146889 (nm) at time 47842 (ps),\n",
    "between atoms 15 and 339\n",
    "\n",
    "c6m without cs = The shortest periodic distance is 0.422048 (nm) at time 71951 (ps),\n",
    "between atoms 3 and 332\n",
    "\n"
   ]
  },
  {
   "cell_type": "code",
   "execution_count": null,
   "id": "5f5edd53",
   "metadata": {
    "collapsed": true
   },
   "outputs": [],
   "source": [
    "# run the driver on the full trajectory \n",
    "# need restart at the top of the plumed.dat\n",
    "# backup HILLS files with date \n",
    "\n",
    "plumed driver --mf_trr traj_all-skip-0-noW-whole-200ps.trr --plumed plumed_driver.dat\n",
    "plumed driver --mf_trr traj_all-skip-0-noW-whole.trr --plumed plumed_driver.dat\n",
    "\n",
    "#using the final column --> output arguments pbmetad.bias \n",
    "\n",
    "submission script: \n",
    "    \n",
    "#!/bin/bash \n",
    "\n",
    "#SBATCH --job-name=c36m-peptide\n",
    "#SBATCH --nodes=32\n",
    "#SBATCH --tasks-per-node=2\n",
    "#SBATCH --cpus-per-task=64\n",
    "#SBATCH --time=48:00:00\n",
    "#SBATCH --mail-user=alice.pettitt.16@ucl.ac.uk\n",
    "\n",
    "# Replace [budget code] below with your project code (e.g. t01)\n",
    "#SBATCH --account=e692\n",
    "#SBATCH --partition=standard\n",
    "#SBATCH --qos=long\n",
    "\n",
    "instead try \n",
    "64\n",
    "1\n",
    "128\n",
    "128\n",
    "\n",
    "this is still too long for a03ws and c36m with cs \n",
    "\n",
    "skip 2 "
   ]
  },
  {
   "cell_type": "code",
   "execution_count": null,
   "id": "912deb8d",
   "metadata": {
    "collapsed": true
   },
   "outputs": [],
   "source": [
    "this is still too long for a03ws and c36m with cs\n",
    "try using skip 2 \n",
    "\n",
    "gmx_mpi trjconv -f traj_all-skip-0-noW.trr -s ../r0/7-npt.tpr -o traj_all-skip-2-noW-whole.trr -pbc mol -center -ur compact -skip 2\n",
    "\n",
    "echo 1 | gmx_mpi mindist -f traj_all-skip-2-noW-whole.trr -s ../r0/7-npt.tpr -pi\n",
    "\n",
    "tail -n +30 mindist.xvg | awk '{print $2}' > mindist_all.dat; rm -rf mindist.xvg\n",
    "\n",
    "a03ws with cs = The shortest periodic distance is 0.155184 (nm) at time 113520 (ps),\n",
    "between atoms 15 and 339\n",
    "c36m with cs = The shortest periodic distance is 0.317382 (nm) at time 330384 (ps),\n",
    "between atoms 3 and 333\n",
    "\n",
    "a03ws with cs = 259072\n",
    "c36m with cs = 267072 \n",
    "\n",
    "plumed_driver_2.dat and srun_2.sh for the skip 2 trajectory \n"
   ]
  },
  {
   "cell_type": "code",
   "execution_count": null,
   "id": "47b6a391",
   "metadata": {
    "collapsed": true
   },
   "outputs": [],
   "source": [
    "08.11.22\n",
    "\n",
    "skip 2 might also be too long, trying skip 3 \n",
    "\n",
    "gmx_mpi trjconv -f traj_all-skip-0-noW.trr -s ../r0/7-npt.tpr -o ../skip3_workup_04_11_2022/traj_all-skip-3-noW-whole.trr -pbc mol -center -ur compact -skip 3\n",
    "\n",
    "echo 1 | gmx_mpi mindist -f traj_all-skip-3-noW-whole.trr -s ../r0/7-npt.tpr -pi\n",
    "\n",
    "tail -n +30 mindist.xvg | awk '{print $2}' > mindist_all.dat; rm -rf mindist.xvg\n",
    "\n",
    "a03ws with cs = The shortest periodic distance is 0.149845 (nm) at time 113607 (ps),\n",
    "between atoms 15 and 336\n",
    "\n",
    "c36m with cs = The shortest periodic distance is 0.230231 (nm) at time 486843 (ps),\n",
    "between atoms 2 and 333\n",
    "\n",
    "gmx_mpi check \n",
    "\n",
    "a03ws with cs = 172715\n",
    "c36m with cs = 178048\n",
    "\n",
    "run plumed driver for skip 3 trajectory"
   ]
  },
  {
   "cell_type": "code",
   "execution_count": null,
   "id": "1204f10b",
   "metadata": {
    "collapsed": true
   },
   "outputs": [],
   "source": [
    "skip 3 worked "
   ]
  },
  {
   "cell_type": "markdown",
   "id": "b5f25a45",
   "metadata": {},
   "source": [
    "11th November 2022 "
   ]
  },
  {
   "cell_type": "code",
   "execution_count": null,
   "id": "74aa1087",
   "metadata": {},
   "outputs": [],
   "source": [
    "# remove first 5 lines from COLVAR\n",
    "#ALI-- check how many lines you actually ened to remove in your case--might be different.\n",
    "awk '{if($1!=\"#!\") print}' COLVAR > COLVAR_nohead\n",
    "\n",
    "# calculate weights - need to work out kbT at 310 K - double check calculation and row it uses \n",
    "# Ali--you need to recalculate your kbT\n",
    "maxV=`awk '{print $NF}' COLVAR_nohead | sort -n | tail -n 1`\n",
    "awk '{print exp(($NF-maxV)/kbT)}' maxV=$maxV kbT=2.57748 COLVAR_nohead > weights.dat\n",
    "awk '{print exp(($NF-maxV)/kbT)}' maxV=$maxV kbT=2.31142 COLVAR_nohead > weights.dat\n",
    "\n",
    "\n",
    "# check length of mindist_all and weights \n",
    "wc -l *"
   ]
  },
  {
   "cell_type": "code",
   "execution_count": null,
   "id": "7d86e57a",
   "metadata": {
    "collapsed": true
   },
   "outputs": [],
   "source": [
    "# mindist 1.2 - for a03ws/a99sb\n",
    "# Ali-- check the cutoffs in your mdp file. this is forcefield dependent!\n",
    "paste weights.dat mindist_all.dat | awk '{w=$1; if($2<=mdcut) w=0.0; print w}' mdcut=1.2 > weights_corr.dat\n",
    "w_tot=`awk '{tot+=$1}END{print tot}' weights.dat`\n",
    "awk '{tot+=$1}END{print \"KEPT PERCENTAGE\",tot/w_tot*100}' w_tot=$w_tot weights_corr.dat\n",
    "\n",
    "# KEPT PERCENTAGE 99.9997\n",
    "\n",
    "# mindist 0.95 - for c36m \n",
    "# Ali-- check the cutoffs in your mdp file. this is forcefield dependent!\n",
    "\n",
    "paste weights.dat mindist_all.dat | awk '{w=$1; if($2<=mdcut) w=0.0; print w}' mdcut=0.95 > weights_corr.dat\n",
    "w_tot=`awk '{tot+=$1}END{print tot}' weights.dat`\n",
    "awk '{tot+=$1}END{print \"KEPT PERCENTAGE\",tot/w_tot*100}' w_tot=$w_tot weights_corr.dat\n",
    "\n",
    "MINDIST IS GOOD \n",
    "\n",
    "a03ws with cs:99.9991\n",
    "a03ws without cs: 99.9991\n",
    "c36m with cs: 100\n",
    "c36m without cs: KEPT PERCENTAGE 100"
   ]
  },
  {
   "cell_type": "code",
   "execution_count": null,
   "id": "4a13ec26",
   "metadata": {
    "collapsed": true
   },
   "outputs": [],
   "source": [
    "#can ignore if no chemical shifts.\n",
    "camshift: \n",
    "    \n",
    "RESTART\n",
    "  \n",
    "MOLINFO STRUCTURE=../system/template_md.pdb\n",
    "prot: GROUP ATOMS=1-339\n",
    "WHOLEMOLECULES ENTITY0=prot\n",
    "\n",
    "# Chemical shifts at 310 K\n",
    "cs: CS2BACKBONE ATOMS=7-339 DATADIR=../data NOPBC TEMPLATE=template_cs.pdb TEMP=310.0\n",
    "\n",
    "PRINT ARG=cs.* FILE=CS_COLVAR STRIDE=1\n",
    "     \n",
    "plumed driver --mf_trr traj_all-skip-0-noW-whole.trr --plumed camshift_plumed.dat\n",
    "\n",
    "a03ws and c36m with cs \n",
    "plumed driver --mf_trr traj_all-skip-3-noW-whole.trr --plumed camshift_plumed.dat"
   ]
  },
  {
   "cell_type": "code",
   "execution_count": null,
   "id": "f1c3e772",
   "metadata": {
    "collapsed": true
   },
   "outputs": [],
   "source": [
    "should not have done skip 3 - need to be able to divide it by the 128 replicas "
   ]
  },
  {
   "cell_type": "markdown",
   "id": "31120e7f",
   "metadata": {},
   "source": [
    "## 13th November 2022 "
   ]
  },
  {
   "cell_type": "code",
   "execution_count": null,
   "id": "db0e3d48",
   "metadata": {
    "collapsed": true
   },
   "outputs": [],
   "source": [
    "trying skip 4 \n",
    "\n",
    "gmx_mpi trjconv -f traj_all-skip-0-noW.trr -s ../r0/7-npt.tpr -o ../skip4_workup_04_11_2022/traj_all-skip-4-noW-whole.trr -pbc mol -center -ur compact -skip 4\n",
    "\n",
    "echo 1 | gmx_mpi mindist -f traj_all-skip-4-noW-whole.trr -s ../r0/7-npt.tpr -pi\n",
    "\n",
    "tail -n +30 mindist.xvg | awk '{print $2}' > mindist_all.dat; rm -rf mindist.xvg\n",
    "\n",
    "a03ws with cs = The shortest periodic distance is 0.155184 (nm) at time 113520 (ps),\n",
    "between atoms 15 and 339\n",
    "\n",
    "c36m with cs = The shortest periodic distance is 0.317382 (nm) at time 330384 (ps),\n",
    "between atoms 3 and 333\n",
    "\n",
    "PARK THIS FOR NOW - CHECK WITH ARCHER2 IF 60 HOUR TIME-LIMIT CAN BE USED \n",
    "\n",
    "gmx_mpi check \n",
    "\n",
    "a03ws with cs =\n",
    "c36m with cs = \n",
    "\n",
    "run plumed driver for skip 4 trajectory"
   ]
  },
  {
   "cell_type": "markdown",
   "id": "ab572b16",
   "metadata": {},
   "source": [
    "## 17th January 2023 - workup for a03ws and c36m with cs "
   ]
  },
  {
   "cell_type": "code",
   "execution_count": null,
   "id": "428aaf68",
   "metadata": {
    "collapsed": true
   },
   "outputs": [],
   "source": [
    "going to try skip 4 for a03ws and c36m with cs \n",
    "\n",
    "working in 7-npt-mm-3fs/skip4_workup_04_11_2022\n",
    "\n",
    "a03ws with cs = 129536\n",
    "c36m with cs = 133536 --> not divisble by 128\n"
   ]
  },
  {
   "cell_type": "code",
   "execution_count": null,
   "id": "fbffcaa3",
   "metadata": {
    "collapsed": true
   },
   "outputs": [],
   "source": [
    "STOP HERE"
   ]
  },
  {
   "cell_type": "code",
   "execution_count": null,
   "id": "3e8c31b3",
   "metadata": {
    "collapsed": true
   },
   "outputs": [],
   "source": [
    "# remove first 5 lines from COLVAR\n",
    "awk '{if($1!=\"#!\") print}' COLVAR > COLVAR_nohead\n",
    "\n",
    "# calculate weights - need to work out kbT at 310 K - double check calculation and row it uses \n",
    "\n",
    "maxV=`awk '{print $NF}' COLVAR_nohead | sort -n | tail -n 1`\n",
    "awk '{print exp(($NF-maxV)/kbT)}' maxV=$maxV kbT=2.57748 COLVAR_nohead > weights.dat\n",
    "\n",
    "# check length of mindist_all and weights \n",
    "wc -l *"
   ]
  },
  {
   "cell_type": "code",
   "execution_count": null,
   "id": "81f2bb84",
   "metadata": {
    "collapsed": true
   },
   "outputs": [],
   "source": [
    "# mindist 1.2 - for a03ws/a99sb\n",
    "paste weights.dat mindist_all.dat | awk '{w=$1; if($2<=mdcut) w=0.0; print w}' mdcut=1.2 > weights_corr.dat\n",
    "w_tot=`awk '{tot+=$1}END{print tot}' weights.dat`\n",
    "awk '{tot+=$1}END{print \"KEPT PERCENTAGE\",tot/w_tot*100}' w_tot=$w_tot weights_corr.dat\n",
    "\n",
    "# mindist 0.95 - for c36m \n",
    "\n",
    "paste weights.dat mindist_all.dat | awk '{w=$1; if($2<=mdcut) w=0.0; print w}' mdcut=0.95 > weights_corr.dat\n",
    "w_tot=`awk '{tot+=$1}END{print tot}' weights.dat`\n",
    "awk '{tot+=$1}END{print \"KEPT PERCENTAGE\",tot/w_tot*100}' w_tot=$w_tot weights_corr.dat\n",
    "\n",
    "MINDIST IS GOOD \n",
    "\n",
    "a03ws with cs:99.9991\n",
    "a03ws without cs: 99.9991\n",
    "c36m with cs: 100\n",
    "c36m without cs: KEPT PERCENTAGE 100"
   ]
  },
  {
   "cell_type": "code",
   "execution_count": null,
   "id": "4cc8b6d0",
   "metadata": {
    "collapsed": true
   },
   "outputs": [],
   "source": [
    "camshift: \n",
    "    \n",
    "RESTART\n",
    "  \n",
    "MOLINFO STRUCTURE=../system/template_md.pdb\n",
    "prot: GROUP ATOMS=1-339\n",
    "WHOLEMOLECULES ENTITY0=prot\n",
    "\n",
    "# Chemical shifts at 310 K\n",
    "cs: CS2BACKBONE ATOMS=7-339 DATADIR=../data NOPBC TEMPLATE=template_cs.pdb TEMP=310.0\n",
    "\n",
    "PRINT ARG=cs.* FILE=CS_COLVAR STRIDE=1\n",
    "     \n",
    "plumed driver --mf_trr traj_all-skip-0-noW-whole.trr --plumed camshift_plumed.dat\n",
    "\n",
    "a03ws and c36m with cs \n",
    "plumed driver --mf_trr traj_all-skip-4-noW-whole.trr --plumed camshift_plumed.dat"
   ]
  },
  {
   "cell_type": "code",
   "execution_count": null,
   "id": "f3ca6fe8",
   "metadata": {},
   "outputs": [],
   "source": []
  }
 ],
 "metadata": {
  "kernelspec": {
   "display_name": "Python 3 (ipykernel)",
   "language": "python",
   "name": "python3"
  },
  "language_info": {
   "codemirror_mode": {
    "name": "ipython",
    "version": 3
   },
   "file_extension": ".py",
   "mimetype": "text/x-python",
   "name": "python",
   "nbconvert_exporter": "python",
   "pygments_lexer": "ipython3",
   "version": "3.7.12"
  }
 },
 "nbformat": 4,
 "nbformat_minor": 5
}
