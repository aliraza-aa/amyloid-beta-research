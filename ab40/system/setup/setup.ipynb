{
 "cells": [
  {
   "cell_type": "code",
   "execution_count": null,
   "metadata": {},
   "outputs": [],
   "source": [
    "# using hydrogen mass repartitioning for longer timesteps\n",
    "gmx_mpi pdb2gmx -f ab40.pdb -o template.gro -ignh -heavyh\n",
    "\n",
    "gmx_mpi pdb2gmx -f ab40.pdb -o template.gro -water tip3p -ignh\n",
    "\n",
    "gmx_mpi editconf -f ../template.gro -o template_newbox.gro -c -d 2 -bt dodecahedron\n",
    "\n",
    "gmx_mpi solvate -cp template_newbox.gro -cs spc216.gro -o template_solv.gro -p ../topol.top\n"
   ]
  },
  {
   "cell_type": "code",
   "execution_count": null,
   "metadata": {},
   "outputs": [],
   "source": [
    "# following Alice's instructions to collapse the protein\n",
    "# 1 – energy minimisation\n",
    "\n",
    "# 2 – position restraints\n",
    "\n",
    "# 3 – Berendsen, using the .mdp file I attached below at 310K (this won’t collapse the structure, it’s just a step before to equilibrate)\n",
    "\n",
    "# 4 – NVT 600K to get the collapsed structure"
   ]
  },
  {
   "cell_type": "code",
   "execution_count": null,
   "metadata": {},
   "outputs": [],
   "source": [
    "# Step 1\n",
    "gmx_mpi grompp -f ../mdp_files/0-em-steep.mdp -c template_solv.gro -p ../topol.top -o em_input.tpr -maxwarn 2\n",
    "\n",
    "# Got the following warning\n",
    "# WARNING 1 [file ffnonbonded.itp, line 68]:\n",
    "#   Atomtype OT was defined previously (e.g. in the forcefield files), and\n",
    "#   has now been defined again. This could happen e.g. if you would use a\n",
    "#   self-contained molecule .itp file that duplicates or replaces the\n",
    "#   contents of the standard force-field files. You should check the contents\n",
    "#   of your files and remove such repetition. If you know you should override\n",
    "#   the previous definition, then you could choose to suppress this warningb\n",
    "#   with -maxwarn.\n",
    "\n",
    "gerun gmx_mpi mdrun -s em -v -maxh 10 &> em_terminal.log"
   ]
  },
  {
   "cell_type": "code",
   "execution_count": null,
   "metadata": {},
   "outputs": [],
   "source": [
    "# Step 2\n",
    "\n",
    "gmx_mpi grompp -f ../mdp_files/2-pr.mdp -c em_output.gro -r em_output.gro -p ../topol.top -o 2-pr.tpr -maxwarn 3\n",
    "gerun gmx_mpi mdrun -deffnm 2-pr -v &> 2-pr_terminal.log"
   ]
  },
  {
   "cell_type": "code",
   "execution_count": null,
   "metadata": {},
   "outputs": [],
   "source": [
    "# Step 3\n",
    "\n",
    "gmx_mpi grompp -f ../mdp_files/3-berendsen_1.mdp -c 2-pr.gro -r 2-pr.gro -p ../topol.top -o 3-berendsen.tpr -maxwarn 3\n",
    "gerun gmx_mpi mdrun -deffnm 3-berendsen -v &> 3-berendsen-terminal.log"
   ]
  },
  {
   "cell_type": "code",
   "execution_count": null,
   "metadata": {},
   "outputs": [],
   "source": [
    "# Step 4\n",
    "\n",
    "gmx_mpi grompp -f ../mdp_files/4-nvt-600.mdp -c 3-berendsen.gro -r 3-berendsen.gro -p ../topol.top -o 4-nvt-600.tpr -maxwarn 2\n",
    "gerun gmx_mpi mdrun -deffnm 4-nvt-600 -v &> 4-nvt-600-terminal.log\n",
    "\n",
    "# restarting step 4\n",
    "gerun gmx_mpi mdrun -cpi 4-nvt-600 -deffnm 4-nvt-600 -v &> 4-nvt-600-terminal-r2.log"
   ]
  },
  {
   "cell_type": "code",
   "execution_count": null,
   "metadata": {},
   "outputs": [],
   "source": [
    "# copied the .gro file produced to visualize the structure. More than one peptides present.\n",
    "scp -o ProxyJump=zcbtar9@ssh-gateway.ucl.ac.uk zcbtar9@kathleen.rc.ucl.ac.uk:~/projects/amyloid-beta-research/ab40/system/setup/4-nvt-600.gro ."
   ]
  },
  {
   "cell_type": "code",
   "execution_count": null,
   "metadata": {},
   "outputs": [],
   "source": [
    "# Tried extracting collapsed structure from output .gro file. Didn't because structure was split at edges\n",
    "\n",
    "gmx_mpi make_ndx -f 4-nvt-600.gro -o collapsed-index.ndx\n",
    "\n",
    "> a 1-598  # Adjust the atom range as needed for your protein\n",
    "> q \n",
    "\n",
    "gmx_mpi trjconv -f 4-nvt-600.gro -s 4-nvt-600.gro -o collapsed-ab40.gro -n collapsed-index.ndx\n",
    "\n",
    "scp -o ProxyJump=zcbtar9@ssh-gateway.ucl.ac.uk zcbtar9@kathleen.rc.ucl.ac.uk:~/projects/amyloid-beta-research/ab40/system/setup/collapsed-ab40.gro ."
   ]
  },
  {
   "cell_type": "code",
   "execution_count": 10,
   "metadata": {},
   "outputs": [],
   "source": [
    "# extracting collapsed structure from trajectory using mdtraj\n",
    "\n",
    "\n",
    "import os\n",
    "import sys\n",
    "import numpy as np\n",
    "import matplotlib.pyplot as plt\n",
    "from matplotlib import colors\n",
    "import math\n",
    "from numpy import log2, zeros, mean, var, sum, loadtxt, arange, \\\n",
    "                  array, cumsum, dot, transpose, diagonal, floor\n",
    "from numpy.linalg import inv, lstsq\n",
    "import seaborn as sns\n",
    "import scipy.cluster.hierarchy\n",
    "from scipy.spatial.distance import squareform\n",
    "import sklearn\n",
    "from sklearn.decomposition import PCA\n",
    "import itertools\n",
    "import mdtraj as md\n",
    "\n",
    "topology=f\"4-nvt-600.gro\"\n",
    "trajectory=f\"4-nvt-600.trr\"\n",
    "\n",
    "trj = md.load(trajectory, top=topology,stride=1)\n",
    "trj = trj.atom_slice(range(598))\n",
    "trj.center_coordinates()\n",
    "top = trj.topology\n",
    "first_frame = 0\n",
    "last_frame = trj.n_frames\n",
    "n_frames=trj.n_frames\n",
    "\n",
    "print(n_frames)\n",
    "\n",
    "frame = trj[454]\n",
    "frame.save('454.gro')"
   ]
  },
  {
   "cell_type": "code",
   "execution_count": null,
   "metadata": {},
   "outputs": [],
   "source": [
    "# procedure to extract 48 confirmations\n",
    "\n",
    "# 1. adding water molecules\n",
    "gmx_mpi editconf -f collapsed-ab40.gro -o template_newbox.gro -c -d 1.3 -bt dodecahedron\n",
    "gmx_mpi solvate -cp template_newbox.gro -cs spc216.gro -o template_solv.gro -p ../topol.top\n",
    "\n",
    "# 2. adding ions\n",
    "gmx_mpi grompp -f ../mdp_files/ions.mdp -c template_solv.gro -p ../topol.top -o genion_NaCl_input.tpr -maxwarn 2\n",
    "# WARNING 2 [file topol.top, line 5632]:\n",
    "#   96 non-matching atom names\n",
    "#   atom names from ../topol.top will be used\n",
    "#   atom names from template_solv.gro will be ignored\n",
    "gmx_mpi genion -s genion_NaCl_input.tpr -o genion_NaCl_output.gro -conc 0.137 -pname NA -nname CL -p ../topol.top\n",
    "\n",
    "gmx_mpi grompp -f ../mdp_files/ions.mdp -c genion_NaCl_output.gro -p ../topol.top -o genion_KCl_input.tpr -maxwarn 1\n",
    "gmx_mpi genion -s genion_KCl_input.tpr -o genion_KCl_output.gro -conc 0.00268 -pname K -nname CL -p ../topol.top\n",
    "# no KCl ions added\n",
    "\n",
    "# 3. Energy minimization\n",
    "gmx_mpi grompp -f ../mdp_files/0-em-steep.mdp -c  genion_KCl_output.gro -p ../topol.top -o em.tpr -maxwarn 2\n",
    "gerun gmx_mpi mdrun -deffnm em -v -maxh 11 &> em-terminal.log\n",
    "\n",
    "# 4. position restraints\n",
    "gmx_mpi grompp -f ../mdp_files/2-pr.mdp -c em.gro -r em.gro -p ../topol.top -o 2-pr.tpr -maxwarn 3\n",
    "gerun gmx_mpi mdrun -deffnm 2-pr -v &> 2-pr-terminal.log\n",
    "gmx_mpi mdrun -deffnm 2-pr -rcon 1.5 -dds 0.8 -v &> 2-pr-terminal.log\n",
    "# There is no domain decomposition for 60 ranks that is compatible with the\n",
    "# given box and a minimum cell size of 1.37088 nm\n",
    "# Change the number of ranks or mdrun option -rcon or -dds or your LINCS\n",
    "# settings\n",
    "# Look in the log file for details on the domain decomposition\n",
    "\n",
    "# Changed the number of ranks to 48\n",
    "\n",
    "# 5. Berendsen\n",
    "gmx_mpi grompp -f ../mdp_files/3-berendsen_1.mdp -c 2-pr.gro -r 2-pr.gro -p ../topol.top -o 3-berendsen.tpr -maxwarn 3\n",
    "gerun gmx_mpi mdrun -deffnm 3-berendsen -v &> 3-berendsen-terminal.log\n",
    "\n",
    "# 6. nvt-600\n",
    "gmx_mpi grompp -f ../mdp_files/5-nvt-600.mdp -c 3-berendsen.gro -r 3-berendsen.gro -p ../topol.top -o 5-nvt-600.tpr -maxwarn 2\n",
    "gerun gmx_mpi mdrun -deffnm 5-nvt-600 -v &> 5-nvt-600-terminal.log\n"
   ]
  },
  {
   "cell_type": "code",
   "execution_count": 11,
   "metadata": {},
   "outputs": [],
   "source": [
    "# extracting 48 confirmations\n",
    "\n",
    "# algorithm to extract 48 confirmations\n",
    "\n",
    "import os\n",
    "import sys\n",
    "import numpy as np\n",
    "import matplotlib.pyplot as plt\n",
    "from matplotlib import colors\n",
    "import math\n",
    "from numpy import log2, zeros, mean, var, sum, loadtxt, arange, \\\n",
    "                  array, cumsum, dot, transpose, diagonal, floor\n",
    "from numpy.linalg import inv, lstsq\n",
    "import seaborn as sns\n",
    "import scipy.cluster.hierarchy\n",
    "from scipy.spatial.distance import squareform\n",
    "import sklearn\n",
    "from sklearn.decomposition import PCA\n",
    "import itertools\n",
    "import mdtraj as md\n",
    "\n",
    "topology=f\"5-nvt-600-no-water.gro\"\n",
    "trajectory=f\"5-nvt-600.xtc\""
   ]
  },
  {
   "cell_type": "code",
   "execution_count": 12,
   "metadata": {},
   "outputs": [
    {
     "data": {
      "text/plain": [
       "201"
      ]
     },
     "execution_count": 12,
     "metadata": {},
     "output_type": "execute_result"
    }
   ],
   "source": [
    "trj = md.load(trajectory, top=topology,stride=1)\n",
    "trj = trj.atom_slice(range(598))\n",
    "trj.center_coordinates()\n",
    "top = trj.topology\n",
    "first_frame = 0\n",
    "n_frames=trj.n_frames\n",
    "\n",
    "n_frames"
   ]
  },
  {
   "cell_type": "code",
   "execution_count": 18,
   "metadata": {},
   "outputs": [],
   "source": [
    "# frame = trj[0]\n",
    "# frame.save('5-nvt-600-no-water.gro')\n",
    "trj.save_xtc('5-nvt-600-no-water.xtc')"
   ]
  },
  {
   "cell_type": "code",
   "execution_count": 7,
   "metadata": {},
   "outputs": [],
   "source": []
  },
  {
   "cell_type": "code",
   "execution_count": 21,
   "metadata": {},
   "outputs": [
    {
     "name": "stdout",
     "output_type": "stream",
     "text": [
      "201\n"
     ]
    }
   ],
   "source": [
    "trj2 = trj.slice(range(0, 2001, 10))\n",
    "print(trj2.n_frames)"
   ]
  },
  {
   "cell_type": "code",
   "execution_count": 4,
   "metadata": {},
   "outputs": [
    {
     "data": {
      "text/plain": [
       "['ASP',\n",
       " 'ALA',\n",
       " 'GLU',\n",
       " 'PHE',\n",
       " 'ARG',\n",
       " 'HIS',\n",
       " 'ASP',\n",
       " 'SER',\n",
       " 'GLY',\n",
       " 'TYR',\n",
       " 'GLU',\n",
       " 'VAL',\n",
       " 'HIS',\n",
       " 'HIS',\n",
       " 'GLN',\n",
       " 'LYS',\n",
       " 'LEU',\n",
       " 'VAL',\n",
       " 'PHE',\n",
       " 'PHE',\n",
       " 'ALA',\n",
       " 'GLU',\n",
       " 'ASP',\n",
       " 'VAL',\n",
       " 'GLY',\n",
       " 'SER',\n",
       " 'ASN',\n",
       " 'LYS',\n",
       " 'GLY',\n",
       " 'ALA',\n",
       " 'ILE',\n",
       " 'ILE',\n",
       " 'GLY',\n",
       " 'LEU',\n",
       " 'MET',\n",
       " 'VAL',\n",
       " 'GLY',\n",
       " 'GLY',\n",
       " 'VAL',\n",
       " 'VAL']"
      ]
     },
     "execution_count": 4,
     "metadata": {},
     "output_type": "execute_result"
    }
   ],
   "source": [
    "nres=[]\n",
    "\n",
    "\n",
    "\n",
    "for res in trj.topology.residues: nres.append(res.resSeq)\n",
    "sequence=(' %s' % [residue for residue in trj.topology.residues])\n",
    "resname=(' %s' % [residue.name for residue in trj.topology.residues])\n",
    "resindex=(' %s' % [residue.index for residue in trj.topology.residues])\n",
    "res_num=(' %s' % [residue.resSeq  for residue in trj.topology.residues])\n",
    "\n",
    "\n",
    "\n",
    "#log = open(\"/Users/paulrobustelli/Desktop/Sa_calc.log\", \"w\")\n",
    "# print(\"** SYSTEM INFO **\\n\")\n",
    "# print(\"Number of atoms: %d\\n\" % trj.n_atoms)\n",
    "# print(\"Number of residues: %d\\n\" % len(set(nres)))\n",
    "# print(\"Number of frames: %d\\n\" % trj.n_frames)\n",
    "# print(\"Starting frame: %d\\n\" % first_frame)\n",
    "# print(\"Last frame: %d\\n\" % last_frame)\n",
    "# print(\"sequence: %s\\n\" % sequence)\n",
    "# print(\"residue names: %s\\n\" % resname)\n",
    "# print(\"residue number: %s\\n\" % res_num)\n",
    "# print(\"residue index: %s\\n\" % resindex)\n",
    "resname = [residue.name for residue in trj.topology.residues]\n",
    "resname\n",
    "# DAEFRHDSGYEVHHQKLVFFAEDVGSNKGAIIGLMVGGVVIA\n",
    "# DAEFRHDSGYEVHHQKLVFFAEDVGSNKGAIIGLMVGGVV\n",
    "# print(''.join(resname))"
   ]
  },
  {
   "cell_type": "code",
   "execution_count": 13,
   "metadata": {},
   "outputs": [
    {
     "ename": "NameError",
     "evalue": "name 'trj2' is not defined",
     "output_type": "error",
     "traceback": [
      "\u001b[1;31m---------------------------------------------------------------------------\u001b[0m",
      "\u001b[1;31mNameError\u001b[0m                                 Traceback (most recent call last)",
      "\u001b[1;32m~\\AppData\\Local\\Temp\\ipykernel_14992\\2867430184.py\u001b[0m in \u001b[0;36m<module>\u001b[1;34m\u001b[0m\n\u001b[1;32m----> 1\u001b[1;33m \u001b[0mrmsd\u001b[0m \u001b[1;33m=\u001b[0m \u001b[0mmd\u001b[0m\u001b[1;33m.\u001b[0m\u001b[0mrmsd\u001b[0m\u001b[1;33m(\u001b[0m\u001b[0mtrj2\u001b[0m\u001b[1;33m,\u001b[0m \u001b[0mtrj2\u001b[0m\u001b[1;33m,\u001b[0m \u001b[1;36m0\u001b[0m\u001b[1;33m)\u001b[0m\u001b[1;33m\u001b[0m\u001b[1;33m\u001b[0m\u001b[0m\n\u001b[0m\u001b[0;32m      2\u001b[0m \u001b[1;31m# print(max(rmsd))\u001b[0m\u001b[1;33m\u001b[0m\u001b[1;33m\u001b[0m\u001b[1;33m\u001b[0m\u001b[0m\n\u001b[0;32m      3\u001b[0m \u001b[0mrmsd\u001b[0m \u001b[1;33m=\u001b[0m \u001b[0mmd\u001b[0m\u001b[1;33m.\u001b[0m\u001b[0mrmsd\u001b[0m\u001b[1;33m(\u001b[0m\u001b[0mtrj2\u001b[0m\u001b[1;33m,\u001b[0m \u001b[0mtrj2\u001b[0m\u001b[1;33m,\u001b[0m \u001b[1;36m0\u001b[0m\u001b[1;33m)\u001b[0m\u001b[1;33m\u001b[0m\u001b[1;33m\u001b[0m\u001b[0m\n\u001b[0;32m      4\u001b[0m \u001b[1;33m\u001b[0m\u001b[0m\n\u001b[0;32m      5\u001b[0m \u001b[1;31m# Find the index of the maximum value\u001b[0m\u001b[1;33m\u001b[0m\u001b[1;33m\u001b[0m\u001b[1;33m\u001b[0m\u001b[0m\n",
      "\u001b[1;31mNameError\u001b[0m: name 'trj2' is not defined"
     ]
    }
   ],
   "source": [
    "rmsd = md.rmsd(trj2, trj2, 0)\n",
    "# print(max(rmsd))\n",
    "rmsd = md.rmsd(trj2, trj2, 0)\n",
    "\n",
    "# Find the index of the maximum value\n",
    "max_index = np.argmax(rmsd)\n",
    "max_index"
   ]
  },
  {
   "cell_type": "code",
   "execution_count": 15,
   "metadata": {},
   "outputs": [
    {
     "data": {
      "text/plain": [
       "[136,\n",
       " 135,\n",
       " 137,\n",
       " 134,\n",
       " 133,\n",
       " 79,\n",
       " 138,\n",
       " 131,\n",
       " 132,\n",
       " 140,\n",
       " 139,\n",
       " 78,\n",
       " 82,\n",
       " 76,\n",
       " 154,\n",
       " 93,\n",
       " 141,\n",
       " 142,\n",
       " 143,\n",
       " 80,\n",
       " 81,\n",
       " 156,\n",
       " 157,\n",
       " 77,\n",
       " 149,\n",
       " 87,\n",
       " 148,\n",
       " 115,\n",
       " 188,\n",
       " 126,\n",
       " 89,\n",
       " 113,\n",
       " 147,\n",
       " 158,\n",
       " 159,\n",
       " 128,\n",
       " 130,\n",
       " 145,\n",
       " 155,\n",
       " 153,\n",
       " 90,\n",
       " 152,\n",
       " 118,\n",
       " 91,\n",
       " 116,\n",
       " 117,\n",
       " 92,\n",
       " 199]"
      ]
     },
     "execution_count": 15,
     "metadata": {},
     "output_type": "execute_result"
    }
   ],
   "source": [
    "# https://stackoverflow.com/questions/63321109/algorithm-for-selecting-a-subset-of-most-distant-elements\n",
    "def find_largest_values(N, M):\n",
    "    candidates = []  # List to store pairs (j, l(j))\n",
    "    S_prime = []  # Resulting subset\n",
    "\n",
    "    # Calculate pairwise distances and initialize candidates list\n",
    "    for i in range(N):\n",
    "            rmsd = md.rmsd(trj, trj, i)\n",
    "#             print(rmsd)\n",
    "            rmsd = np.delete(rmsd, i)\n",
    "\n",
    "            l_i = min(rmsd)\n",
    "            candidates.append((i, l_i))\n",
    "\n",
    "    # Sort candidates list by l(i) in descending order\n",
    "    candidates.sort(key=lambda x: x[1], reverse=True)\n",
    "\n",
    "    # Select M elements with the largest values of l(i)\n",
    "    for i in range(M):\n",
    "        current_index, current_l_value = candidates[i]\n",
    "        S_prime.append(current_index)\n",
    "\n",
    "    return S_prime\n",
    "\n",
    "indxs = find_largest_values(trj.n_frames, 48)\n",
    "indxs"
   ]
  },
  {
   "cell_type": "code",
   "execution_count": null,
   "metadata": {},
   "outputs": [],
   "source": [
    "# NVT and NPT equilibration with position restraints on heavy atoms\n"
   ]
  }
 ],
 "metadata": {
  "kernelspec": {
   "display_name": "Python 3 (ipykernel)",
   "language": "python",
   "name": "python3"
  },
  "language_info": {
   "codemirror_mode": {
    "name": "ipython",
    "version": 3
   },
   "file_extension": ".py",
   "mimetype": "text/x-python",
   "name": "python",
   "nbconvert_exporter": "python",
   "pygments_lexer": "ipython3",
   "version": "3.7.12"
  }
 },
 "nbformat": 4,
 "nbformat_minor": 2
}
