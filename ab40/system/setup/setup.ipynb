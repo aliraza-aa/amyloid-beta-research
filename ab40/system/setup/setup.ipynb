{
 "cells": [
  {
   "cell_type": "code",
   "execution_count": null,
   "metadata": {},
   "outputs": [],
   "source": [
    "# 1. Confirmed that at pH 8.5, the NE1 nitrogen in histidine is protonated based on experimental data. \n",
    "# https://www.ncbi.nlm.nih.gov/pmc/articles/PMC4082993/\n",
    "\n",
    "# 2. Changed aminoacids.c.tdb OH to OH1. Potential typo in force field files."
   ]
  },
  {
   "cell_type": "code",
   "execution_count": null,
   "metadata": {},
   "outputs": [],
   "source": [
    "# using hydrogen mass repartitioning for longer timesteps\n",
    "gmx_mpi pdb2gmx -f ab40.pdb -o template.gro -ignh -heavyh -water tip3p\n",
    "\n",
    "gmx_mpi pdb2gmx -f ab40.pdb -o template.gro -water tip3p -ignh\n",
    "\n",
    "gmx_mpi editconf -f ../template.gro -o template_newbox.gro -c -d 2 -bt dodecahedron\n",
    "\n",
    "gmx_mpi solvate -cp template_newbox.gro -cs spc216.gro -o template_solv.gro -p ../topol.top\n"
   ]
  },
  {
   "cell_type": "code",
   "execution_count": null,
   "metadata": {},
   "outputs": [],
   "source": [
    "# following Alice's instructions to collapse the protein\n",
    "# 1 – energy minimisation\n",
    "\n",
    "# 2 – position restraints\n",
    "\n",
    "# 3 – Berendsen, using the .mdp file I attached below at 310K (this won’t collapse the structure, it’s just a step before to equilibrate)\n",
    "\n",
    "# 4 – NVT 600K to get the collapsed structure"
   ]
  },
  {
   "cell_type": "code",
   "execution_count": null,
   "metadata": {},
   "outputs": [],
   "source": [
    "# Step 1\n",
    "gmx_mpi grompp -f ../mdp_files/0-em-steep.mdp -c template_solv.gro -p ../topol.top -o em_input.tpr -maxwarn 2\n",
    "\n",
    "# Got the following warning\n",
    "# WARNING 1 [file ffnonbonded.itp, line 68]:\n",
    "#   Atomtype OT was defined previously (e.g. in the forcefield files), and\n",
    "#   has now been defined again. This could happen e.g. if you would use a\n",
    "#   self-contained molecule .itp file that duplicates or replaces the\n",
    "#   contents of the standard force-field files. You should check the contents\n",
    "#   of your files and remove such repetition. If you know you should override\n",
    "#   the previous definition, then you could choose to suppress this warningb\n",
    "#   with -maxwarn.\n",
    "\n",
    "gerun gmx_mpi mdrun -s em -v -maxh 10 &> em_terminal.log"
   ]
  },
  {
   "cell_type": "code",
   "execution_count": null,
   "metadata": {},
   "outputs": [],
   "source": [
    "# Step 2\n",
    "\n",
    "gmx_mpi grompp -f ../mdp_files/2-pr.mdp -c em_output.gro -r em_output.gro -p ../topol.top -o 2-pr.tpr -maxwarn 3\n",
    "gerun gmx_mpi mdrun -deffnm 2-pr -v &> 2-pr_terminal.log"
   ]
  },
  {
   "cell_type": "code",
   "execution_count": null,
   "metadata": {},
   "outputs": [],
   "source": [
    "# Step 3\n",
    "\n",
    "gmx_mpi grompp -f ../mdp_files/3-berendsen_1.mdp -c 2-pr.gro -r 2-pr.gro -p ../topol.top -o 3-berendsen.tpr -maxwarn 3\n",
    "gerun gmx_mpi mdrun -deffnm 3-berendsen -v &> 3-berendsen-terminal.log"
   ]
  },
  {
   "cell_type": "code",
   "execution_count": null,
   "metadata": {},
   "outputs": [],
   "source": [
    "# Step 4\n",
    "\n",
    "gmx_mpi grompp -f ../mdp_files/4-nvt-600.mdp -c 3-berendsen.gro -r 3-berendsen.gro -p ../topol.top -o 4-nvt-600.tpr -maxwarn 2\n",
    "gerun gmx_mpi mdrun -deffnm 4-nvt-600 -v &> 4-nvt-600-terminal.log\n",
    "\n",
    "# restarting step 4\n",
    "gerun gmx_mpi mdrun -cpi 4-nvt-600 -deffnm 4-nvt-600 -v &> 4-nvt-600-terminal-r2.log"
   ]
  },
  {
   "cell_type": "code",
   "execution_count": null,
   "metadata": {},
   "outputs": [],
   "source": [
    "# copied the .gro file produced to visualize the structure. More than one peptides present.\n",
    "scp -o ProxyJump=zcbtar9@ssh-gateway.ucl.ac.uk zcbtar9@kathleen.rc.ucl.ac.uk:~/projects/amyloid-beta-research/ab40/system/setup/4-nvt-600.gro ."
   ]
  },
  {
   "cell_type": "code",
   "execution_count": null,
   "metadata": {},
   "outputs": [],
   "source": [
    "# Tried extracting collapsed structure from output .gro file. Didn't because structure was split at edges\n",
    "\n",
    "gmx_mpi make_ndx -f 4-nvt-600.gro -o collapsed-index.ndx\n",
    "\n",
    "> a 1-598  # Adjust the atom range as needed for your protein\n",
    "> q \n",
    "\n",
    "gmx_mpi trjconv -f 4-nvt-600.gro -s 4-nvt-600.gro -o collapsed-ab40.gro -n collapsed-index.ndx\n",
    "\n",
    "scp -o ProxyJump=zcbtar9@ssh-gateway.ucl.ac.uk zcbtar9@kathleen.rc.ucl.ac.uk:~/projects/amyloid-beta-research/ab40/system/setup/collapsed-ab40.gro ."
   ]
  },
  {
   "cell_type": "code",
   "execution_count": 10,
   "metadata": {},
   "outputs": [],
   "source": [
    "# extracting collapsed structure from trajectory using mdtraj\n",
    "\n",
    "\n",
    "import os\n",
    "import sys\n",
    "import numpy as np\n",
    "import matplotlib.pyplot as plt\n",
    "from matplotlib import colors\n",
    "import math\n",
    "from numpy import log2, zeros, mean, var, sum, loadtxt, arange, \\\n",
    "                  array, cumsum, dot, transpose, diagonal, floor\n",
    "from numpy.linalg import inv, lstsq\n",
    "import seaborn as sns\n",
    "import scipy.cluster.hierarchy\n",
    "from scipy.spatial.distance import squareform\n",
    "import sklearn\n",
    "from sklearn.decomposition import PCA\n",
    "import itertools\n",
    "import mdtraj as md\n",
    "\n",
    "topology=f\"4-nvt-600.gro\"\n",
    "trajectory=f\"4-nvt-600.trr\"\n",
    "\n",
    "trj = md.load(trajectory, top=topology,stride=1)\n",
    "trj = trj.atom_slice(range(598))\n",
    "trj.center_coordinates()\n",
    "top = trj.topology\n",
    "first_frame = 0\n",
    "last_frame = trj.n_frames\n",
    "n_frames=trj.n_frames\n",
    "\n",
    "print(n_frames)\n",
    "\n",
    "frame = trj[454]\n",
    "frame.save('454.gro')"
   ]
  },
  {
   "cell_type": "code",
   "execution_count": null,
   "metadata": {},
   "outputs": [],
   "source": [
    "# procedure to extract 48 confirmations\n",
    "\n",
    "# 1. adding water molecules\n",
    "gmx_mpi editconf -f collapsed-ab40.gro -o template_newbox.gro -c -d 1.3 -bt dodecahedron\n",
    "gmx_mpi solvate -cp template_newbox.gro -cs spc216.gro -o template_solv.gro -p ../topol.top\n",
    "\n",
    "# 2. adding ions\n",
    "gmx_mpi grompp -f ../mdp_files/ions.mdp -c template_solv.gro -p ../topol.top -o genion_NaCl_input.tpr -maxwarn 2\n",
    "# WARNING 2 [file topol.top, line 5632]:\n",
    "#   96 non-matching atom names\n",
    "#   atom names from ../topol.top will be used\n",
    "#   atom names from template_solv.gro will be ignored\n",
    "gmx_mpi genion -s genion_NaCl_input.tpr -o genion_NaCl_output.gro -conc 0.137 -pname NA -nname CL -p ../topol.top\n",
    "\n",
    "gmx_mpi grompp -f ../mdp_files/ions.mdp -c genion_NaCl_output.gro -p ../topol.top -o genion_KCl_input.tpr -maxwarn 1\n",
    "gmx_mpi genion -s genion_KCl_input.tpr -o genion_KCl_output.gro -conc 0.00268 -pname K -nname CL -p ../topol.top\n",
    "# no KCl ions added\n",
    "\n",
    "# 3. Energy minimization\n",
    "gmx_mpi grompp -f ../mdp_files/0-em-steep.mdp -c  genion_KCl_output.gro -p ../topol.top -o em.tpr -maxwarn 2\n",
    "gerun gmx_mpi mdrun -deffnm em -v -maxh 11 &> em-terminal.log\n",
    "\n",
    "# 4. position restraints\n",
    "gmx_mpi grompp -f ../mdp_files/2-pr.mdp -c em.gro -r em.gro -p ../topol.top -o 2-pr.tpr -maxwarn 3\n",
    "gerun gmx_mpi mdrun -deffnm 2-pr -v &> 2-pr-terminal.log\n",
    "gmx_mpi mdrun -deffnm 2-pr -rcon 1.5 -dds 0.8 -v &> 2-pr-terminal.log\n",
    "# There is no domain decomposition for 60 ranks that is compatible with the\n",
    "# given box and a minimum cell size of 1.37088 nm\n",
    "# Change the number of ranks or mdrun option -rcon or -dds or your LINCS\n",
    "# settings\n",
    "# Look in the log file for details on the domain decomposition\n",
    "\n",
    "# Changed the number of ranks to 42 and increased box size to 1.3 nm\n",
    "\n",
    "# 5. Berendsen\n",
    "gmx_mpi grompp -f ../mdp_files/3-berendsen_1.mdp -c 2-pr.gro -r 2-pr.gro -p ../topol.top -o 3-berendsen.tpr -maxwarn 3\n",
    "gerun gmx_mpi mdrun -deffnm 3-berendsen -v &> 3-berendsen-terminal.log\n",
    "\n",
    "# 6. nvt-600\n",
    "gmx_mpi grompp -f ../mdp_files/5-nvt-600.mdp -c 3-berendsen.gro -r 3-berendsen.gro -p ../topol.top -o 5-nvt-600.tpr -maxwarn 2\n",
    "gerun gmx_mpi mdrun -deffnm 5-nvt-600 -v &> 5-nvt-600-terminal.log\n"
   ]
  },
  {
   "cell_type": "code",
   "execution_count": null,
   "metadata": {},
   "outputs": [],
   "source": [
    "# trying to center the trajectory with gromacs\n",
    "gmx_mpi trjconv -s 5-nvt-600.tpr -f 5-nvt-600.trr -o 5-nvt-600-noPBC-test.trr -pbc mol -center"
   ]
  },
  {
   "cell_type": "code",
   "execution_count": null,
   "metadata": {},
   "outputs": [],
   "source": [
    "# checking contacts the peptide and its periodic images to see if box size is large enough\n",
    "gmx_mpi mindist -f 5-nvt-600.trr -s 5-nvt-600.gro -pi\n",
    "\n",
    "# The shortest periodic distance is 1.44846 (nm) at time 524 (ps),\n",
    "# between atoms 107 and 591"
   ]
  },
  {
   "cell_type": "code",
   "execution_count": 9,
   "metadata": {},
   "outputs": [
    {
     "data": {
      "text/plain": [
       "Text(0.5, 1.0, 'Distance between peptide and its periodic image')"
      ]
     },
     "execution_count": 9,
     "metadata": {},
     "output_type": "execute_result"
    },
    {
     "data": {
      "image/png": "[encoded data removed]",
      "text/plain": [
       "<Figure size 640x480 with 1 Axes>"
      ]
     },
     "metadata": {},
     "output_type": "display_data"
    }
   ],
   "source": [
    "import pandas as pd\n",
    "import matplotlib.pyplot as plt\n",
    "import numpy as np\n",
    "\n",
    "data = pd.read_table(\"mindist.xvg\", delim_whitespace=True, skiprows=29, header=None)\n",
    "# dataA = dataA.drop(columns=\"Unnamed: 0\")\n",
    "x = data[0]\n",
    "y = data[1]\n",
    "\n",
    "fig, ax = plt.subplots()\n",
    "ax.plot(x, y)\n",
    "ax.set_xlabel(\"time (ps)\")  # Add an x-label to the axes.\n",
    "ax.set_ylabel(\"min distance (ns)\")  # Add a y-label to the axes.\n",
    "ax.set_title(\"Distance between peptide and its periodic image\")"
   ]
  },
  {
   "cell_type": "code",
   "execution_count": 24,
   "metadata": {},
   "outputs": [],
   "source": [
    "# extracting 48 confirmations\n",
    "\n",
    "# algorithm to extract 48 confirmations\n",
    "\n",
    "import os\n",
    "import sys\n",
    "import numpy as np\n",
    "import matplotlib.pyplot as plt\n",
    "from matplotlib import colors\n",
    "import math\n",
    "from numpy import log2, zeros, mean, var, sum, loadtxt, arange, \\\n",
    "                  array, cumsum, dot, transpose, diagonal, floor\n",
    "from numpy.linalg import inv, lstsq\n",
    "import seaborn as sns\n",
    "import scipy.cluster.hierarchy\n",
    "from scipy.spatial.distance import squareform\n",
    "import sklearn\n",
    "from sklearn.decomposition import PCA\n",
    "import itertools\n",
    "import mdtraj as md\n",
    "\n",
    "topology=f\"5-nvt-600.gro\"\n",
    "trajectory=f\"5-nvt-600-noPBC-more-frames.trr\""
   ]
  },
  {
   "cell_type": "code",
   "execution_count": 25,
   "metadata": {},
   "outputs": [
    {
     "data": {
      "text/plain": [
       "501"
      ]
     },
     "execution_count": 25,
     "metadata": {},
     "output_type": "execute_result"
    }
   ],
   "source": [
    "trj = md.load(trajectory, top=topology,stride=1)\n",
    "trj2 = trj.atom_slice(range(598))\n",
    "# trj.center_coordinates()\n",
    "top = trj2.topology\n",
    "first_frame = 0\n",
    "n_frames=trj.n_frames\n",
    "\n",
    "n_frames"
   ]
  },
  {
   "cell_type": "code",
   "execution_count": 16,
   "metadata": {},
   "outputs": [],
   "source": [
    "# frame = trj[0]\n",
    "# frame.save('5-nvt-600-noPBC-no-water-mf-frame1.gro')\n",
    "# trj.save_trr('5-nvt-600-no-water-mf.trr')\n",
    "\n",
    "# trj2 = trj.slice(range(0, 2001, 10))\n",
    "# print(trj2.n_frames)"
   ]
  },
  {
   "cell_type": "code",
   "execution_count": 2,
   "metadata": {},
   "outputs": [],
   "source": [
    "# nres=[]\n",
    "\n",
    "\n",
    "\n",
    "# for res in trj.topology.residues: nres.append(res.resSeq)\n",
    "# sequence=(' %s' % [residue for residue in trj.topology.residues])\n",
    "# resname=(' %s' % [residue.name for residue in trj.topology.residues])\n",
    "# resindex=(' %s' % [residue.index for residue in trj.topology.residues])\n",
    "# res_num=(' %s' % [residue.resSeq  for residue in trj.topology.residues])\n",
    "\n",
    "\n",
    "\n",
    "# #log = open(\"/Users/paulrobustelli/Desktop/Sa_calc.log\", \"w\")\n",
    "# # print(\"** SYSTEM INFO **\\n\")\n",
    "# # print(\"Number of atoms: %d\\n\" % trj.n_atoms)\n",
    "# # print(\"Number of residues: %d\\n\" % len(set(nres)))\n",
    "# # print(\"Number of frames: %d\\n\" % trj.n_frames)\n",
    "# # print(\"Starting frame: %d\\n\" % first_frame)\n",
    "# # print(\"Last frame: %d\\n\" % last_frame)\n",
    "# # print(\"sequence: %s\\n\" % sequence)\n",
    "# # print(\"residue names: %s\\n\" % resname)\n",
    "# # print(\"residue number: %s\\n\" % res_num)\n",
    "# # print(\"residue index: %s\\n\" % resindex)\n",
    "# resname = [residue.name for residue in trj.topology.residues]\n",
    "# resname\n",
    "# # DAEFRHDSGYEVHHQKLVFFAEDVGSNKGAIIGLMVGGVVIA\n",
    "# # DAEFRHDSGYEVHHQKLVFFAEDVGSNKGAIIGLMVGGVV\n",
    "# # print(''.join(resname))"
   ]
  },
  {
   "cell_type": "code",
   "execution_count": 3,
   "metadata": {},
   "outputs": [],
   "source": [
    "# rmsd = md.rmsd(trj2, trj2, 0)\n",
    "# # print(max(rmsd))\n",
    "# rmsd = md.rmsd(trj2, trj2, 0)\n",
    "\n",
    "# # Find the index of the maximum value\n",
    "# max_index = np.argmax(rmsd)\n",
    "# max_index"
   ]
  },
  {
   "cell_type": "code",
   "execution_count": 34,
   "metadata": {},
   "outputs": [
    {
     "data": {
      "text/plain": [
       "[479,\n",
       " 110,\n",
       " 165,\n",
       " 397,\n",
       " 408,\n",
       " 123,\n",
       " 243,\n",
       " 92,\n",
       " 71,\n",
       " 182,\n",
       " 407,\n",
       " 22,\n",
       " 109,\n",
       " 88,\n",
       " 97,\n",
       " 87,\n",
       " 456,\n",
       " 444,\n",
       " 393,\n",
       " 58,\n",
       " 59,\n",
       " 50,\n",
       " 98,\n",
       " 99,\n",
       " 453,\n",
       " 156,\n",
       " 423,\n",
       " 390,\n",
       " 440,\n",
       " 183,\n",
       " 399,\n",
       " 398,\n",
       " 135,\n",
       " 39,\n",
       " 469,\n",
       " 114,\n",
       " 166,\n",
       " 167,\n",
       " 74,\n",
       " 75,\n",
       " 37,\n",
       " 38,\n",
       " 57,\n",
       " 136,\n",
       " 242,\n",
       " 53,\n",
       " 54,\n",
       " 437,\n",
       " 163,\n",
       " 164]"
      ]
     },
     "execution_count": 34,
     "metadata": {},
     "output_type": "execute_result"
    }
   ],
   "source": [
    "# # https://stackoverflow.com/questions/63321109/algorithm-for-selecting-a-subset-of-most-distant-elements\n",
    "def find_largest_values(trj, N, M):\n",
    "    candidates = []  # List to store pairs (j, l(j))\n",
    "    S_prime = []  # Resulting subset\n",
    "\n",
    "    # Calculate pairwise distances and initialize candidates list\n",
    "    for i in range(N):\n",
    "            rmsd = md.rmsd(trj, trj, i)\n",
    "#             print(rmsd)\n",
    "            rmsd = np.delete(rmsd, i)\n",
    "\n",
    "            l_i = min(rmsd)\n",
    "            candidates.append((i, l_i))\n",
    "\n",
    "    # Sort candidates list by l(i) in descending order\n",
    "    candidates.sort(key=lambda x: x[1], reverse=True)\n",
    "\n",
    "    # Select M elements with the largest values of l(i)\n",
    "    for i in range(M):\n",
    "        current_index, current_l_value = candidates[i]\n",
    "        S_prime.append(current_index)\n",
    "\n",
    "    return S_prime\n",
    "\n",
    "indxs = find_largest_values(trj2, trj2.n_frames, 50)\n",
    "indxs"
   ]
  },
  {
   "cell_type": "code",
   "execution_count": 33,
   "metadata": {},
   "outputs": [],
   "source": [
    "for i in range(40):\n",
    "    trj[indxs[i]].save(f'../production/r{i}/template.gro')"
   ]
  },
  {
   "cell_type": "code",
   "execution_count": null,
   "metadata": {},
   "outputs": [],
   "source": [
    "# after extracting 48 confirmations, setup the system for production run\n",
    "\n",
    "# 1. Energy Minimization\n",
    "gmx_mpi grompp -f ../mdp_files/0-em-steep.mdp -c r0/template.gro -p ../topol.top -o r0/em.tpr\n",
    "for i in {1..39}; do gmx_mpi grompp -f ../mdp_files/0-em-steep.mdp -c r${i}/template.gro -p ../topol.top -o r${i}/em.tpr; done\n",
    "\n",
    "# 2. NVT\n",
    "\n",
    "# 3. NPT"
   ]
  }
 ],
 "metadata": {
  "kernelspec": {
   "display_name": "Python 3 (ipykernel)",
   "language": "python",
   "name": "python3"
  },
  "language_info": {
   "codemirror_mode": {
    "name": "ipython",
    "version": 3
   },
   "file_extension": ".py",
   "mimetype": "text/x-python",
   "name": "python",
   "nbconvert_exporter": "python",
   "pygments_lexer": "ipython3",
   "version": "3.7.12"
  }
 },
 "nbformat": 4,
 "nbformat_minor": 2
}
